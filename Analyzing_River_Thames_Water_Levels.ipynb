{
  "cells": [
    {
      "cell_type": "markdown",
      "metadata": {
        "id": "view-in-github",
        "colab_type": "text"
      },
      "source": [
        "<a href=\"https://colab.research.google.com/github/nswapnil31/Data-Science-Projects/blob/main/Analyzing_River_Thames_Water_Levels.ipynb\" target=\"_parent\"><img src=\"https://colab.research.google.com/assets/colab-badge.svg\" alt=\"Open In Colab\"/></a>"
      ]
    },
    {
      "source": [
        "# Analyzing River Thames Water Levels\n",
        "Time series data is everywhere, from watching your stock portfolio to monitoring climate change, and even live-tracking as local cases of a virus become a global pandemic. In this project, you’ll work with a time series that tracks the tide levels of the Thames River. You’ll first load the data and inspect it data visually, and then perform calculations on the dataset to generate some summary statistics. You’ll end by decomposing the time series into its component attributes and analyzing them. \n",
        "\n",
        "The original dataset is available from the British Oceanographic Data Center [here](https://www.bodc.ac.uk/data/published_data_library/catalogue/10.5285/b66afb2c-cd53-7de9-e053-6c86abc0d251) and you can read all about this fascinating archival story in [this article](https://www.nature.com/articles/s41597-022-01223-7) from the Nature journal.\n",
        "\n",
        "Here's a map of the locations of the tidal gauges along the River Thames in London.\n",
        "\n",
        "![](locations.png)\n",
        "\n",
        "The dataset comes with a file called `Data_description.pdf`. The dataset consists of 13 `.txt` files, containing comma separated data. We'll begin by analyzing one of them, the London Bridge gauge, and preparing it for analysis. The same code can be used to analyze data from other files (i.e. other gauges along the river) later.\n",
        "\n",
        "\n",
        "\n",
        "| Variable Name | Description | Format |\n",
        "| ------------- | ----------- | ------ |\n",
        "| Date and time | Date and time of measurement to GMT. Note the tide gauge is accurate to one minute. | dd/mm/yyyy hh:mm:ss |\n",
        "| Water level | High or low water level measured by tide gauge. Tide gauges are accurate to 1 centimetre. | metres (Admiralty Chart Datum (CD), Ordnance Datum Newlyn (ODN or Trinity High Water (THW)) | \n",
        "| Flag | High water flag = 1, low water flag = 0 | Categorical (0 or 1) |"
      ],
      "metadata": {
        "tags": [],
        "id": "35d4e17b-eeb6-40dd-a140-7b949390e115"
      },
      "id": "35d4e17b-eeb6-40dd-a140-7b949390e115",
      "cell_type": "markdown"
    },
    {
      "source": [
        "# We've imported your first Python package for you! Feel free to add as many cells as you like.\n",
        "import pandas as pd    # for data manipulation\n",
        "\n",
        "import numpy as np\n",
        "import seaborn as sns\n",
        "\n",
        "import matplotlib.pyplot as plt\n",
        "import plotly.express as px\n"
      ],
      "metadata": {
        "executionTime": 3509,
        "lastSuccessfullyExecutedCode": "# We've imported your first Python package for you! Feel free to add as many cells as you like.\nimport pandas as pd    # for data manipulation\n\nimport numpy as np\nimport seaborn as sns\n\nimport matplotlib.pyplot as plt\nimport plotly.express as px\n",
        "id": "2ca4359b-3fb7-4cfc-8017-36f70e928fba"
      },
      "id": "2ca4359b-3fb7-4cfc-8017-36f70e928fba",
      "cell_type": "code",
      "execution_count": null,
      "outputs": []
    },
    {
      "source": [
        "# Load the data from London Bridge\n",
        "lb = pd.read_csv('data/10-11_London_Bridge.txt') # Comma-separated .txt file\n",
        "lb.head()"
      ],
      "metadata": {
        "executionTime": 160,
        "lastSuccessfullyExecutedCode": "# Load the data from London Bridge\nlb = pd.read_csv('data/10-11_London_Bridge.txt') # Comma-separated .txt file\nlb.head()",
        "id": "1d81a55d-8c94-49e5-bbe1-cc72ae38a8ff",
        "outputId": "8c6b05e1-695b-4b1f-81f7-b9cc2ebb5bb1"
      },
      "cell_type": "code",
      "id": "1d81a55d-8c94-49e5-bbe1-cc72ae38a8ff",
      "execution_count": null,
      "outputs": [
        {
          "output_type": "execute_result",
          "execution_count": 4,
          "data": {
            "application/com.datacamp.data-table.v1+json": {
              "table": {
                "schema": {
                  "fields": [
                    {
                      "name": "index",
                      "type": "integer"
                    },
                    {
                      "name": "Date and time",
                      "type": "string"
                    },
                    {
                      "name": " water level (m ODN)",
                      "type": "string"
                    },
                    {
                      "name": " flag",
                      "type": "integer"
                    },
                    {
                      "name": " HW=1 or LW=0",
                      "type": "number"
                    }
                  ],
                  "primaryKey": [
                    "index"
                  ],
                  "pandas_version": "1.4.0"
                },
                "data": [
                  {
                    "index": 0,
                    "Date and time": "01/05/1911 15:40:00",
                    " water level (m ODN)": "  3.7130",
                    " flag": 1,
                    " HW=1 or LW=0": null
                  },
                  {
                    "index": 1,
                    "Date and time": "02/05/1911 11:25:00",
                    " water level (m ODN)": " -2.9415",
                    " flag": 0,
                    " HW=1 or LW=0": null
                  },
                  {
                    "index": 2,
                    "Date and time": "02/05/1911 16:05:00",
                    " water level (m ODN)": "  3.3828",
                    " flag": 1,
                    " HW=1 or LW=0": null
                  },
                  {
                    "index": 3,
                    "Date and time": "03/05/1911 11:50:00",
                    " water level (m ODN)": " -2.6367",
                    " flag": 0,
                    " HW=1 or LW=0": null
                  },
                  {
                    "index": 4,
                    "Date and time": "03/05/1911 16:55:00",
                    " water level (m ODN)": "  2.9256",
                    " flag": 1,
                    " HW=1 or LW=0": null
                  }
                ]
              },
              "total_rows": 5,
              "truncation_type": null
            },
            "text/plain": "         Date and time  water level (m ODN)   flag   HW=1 or LW=0\n0  01/05/1911 15:40:00               3.7130      1            NaN\n1  02/05/1911 11:25:00              -2.9415      0            NaN\n2  02/05/1911 16:05:00               3.3828      1            NaN\n3  03/05/1911 11:50:00              -2.6367      0            NaN\n4  03/05/1911 16:55:00               2.9256      1            NaN",
            "text/html": "<div>\n<style scoped>\n    .dataframe tbody tr th:only-of-type {\n        vertical-align: middle;\n    }\n\n    .dataframe tbody tr th {\n        vertical-align: top;\n    }\n\n    .dataframe thead th {\n        text-align: right;\n    }\n</style>\n<table border=\"1\" class=\"dataframe\">\n  <thead>\n    <tr style=\"text-align: right;\">\n      <th></th>\n      <th>Date and time</th>\n      <th>water level (m ODN)</th>\n      <th>flag</th>\n      <th>HW=1 or LW=0</th>\n    </tr>\n  </thead>\n  <tbody>\n    <tr>\n      <th>0</th>\n      <td>01/05/1911 15:40:00</td>\n      <td>3.7130</td>\n      <td>1</td>\n      <td>NaN</td>\n    </tr>\n    <tr>\n      <th>1</th>\n      <td>02/05/1911 11:25:00</td>\n      <td>-2.9415</td>\n      <td>0</td>\n      <td>NaN</td>\n    </tr>\n    <tr>\n      <th>2</th>\n      <td>02/05/1911 16:05:00</td>\n      <td>3.3828</td>\n      <td>1</td>\n      <td>NaN</td>\n    </tr>\n    <tr>\n      <th>3</th>\n      <td>03/05/1911 11:50:00</td>\n      <td>-2.6367</td>\n      <td>0</td>\n      <td>NaN</td>\n    </tr>\n    <tr>\n      <th>4</th>\n      <td>03/05/1911 16:55:00</td>\n      <td>2.9256</td>\n      <td>1</td>\n      <td>NaN</td>\n    </tr>\n  </tbody>\n</table>\n</div>"
          },
          "metadata": {}
        }
      ]
    },
    {
      "source": [
        "# Take only the first three columns\n",
        "df = lb.iloc[:, :3]"
      ],
      "metadata": {
        "executionTime": 49,
        "lastSuccessfullyExecutedCode": "# Take only the first three columns\ndf = lb.iloc[:, :3]",
        "id": "47050041-36d1-43ef-bc48-6dc8b78cac69"
      },
      "cell_type": "code",
      "id": "47050041-36d1-43ef-bc48-6dc8b78cac69",
      "execution_count": null,
      "outputs": []
    },
    {
      "source": [
        "# Rename columns\n",
        "df.columns = ['datetime', 'water_level', 'is_high_tide']"
      ],
      "metadata": {
        "executionTime": 53,
        "lastSuccessfullyExecutedCode": "# Rename columns\ndf.columns = ['datetime', 'water_level', 'is_high_tide']",
        "id": "01b08c3f-1953-43d3-8257-d1e0516e9ca6"
      },
      "cell_type": "code",
      "id": "01b08c3f-1953-43d3-8257-d1e0516e9ca6",
      "execution_count": null,
      "outputs": []
    },
    {
      "source": [
        "# Convert to datetime\n",
        "df['datetime'] = pd.to_datetime(df['datetime'])\n",
        "\n",
        "# Convert to float\n",
        "df['water_level'] = df.water_level.astype(float)\n",
        "\n",
        "# Create extra month and year columns for easy access\n",
        "df['month'] = df['datetime'].dt.month\n",
        "df['year'] = df['datetime'].dt.year"
      ],
      "metadata": {
        "executionTime": 8379,
        "lastSuccessfullyExecutedCode": "# Convert to datetime\ndf['datetime'] = pd.to_datetime(df['datetime'])\n\n# Convert to float\ndf['water_level'] = df.water_level.astype(float)\n\n# Create extra month and year columns for easy access\ndf['month'] = df['datetime'].dt.month\ndf['year'] = df['datetime'].dt.year",
        "id": "c4da0feb-d577-465c-8cdd-f27dc94de711"
      },
      "cell_type": "code",
      "id": "c4da0feb-d577-465c-8cdd-f27dc94de711",
      "execution_count": null,
      "outputs": []
    },
    {
      "source": [
        "# Filter df for high and low tide\n",
        "tide_high = df.query('is_high_tide==1')['water_level']\n",
        "tide_low = df.query('is_high_tide==0')['water_level']"
      ],
      "metadata": {
        "executionTime": 46,
        "lastSuccessfullyExecutedCode": "# Filter df for high and low tide\ntide_high = df.query('is_high_tide==1')['water_level']\ntide_low = df.query('is_high_tide==0')['water_level']",
        "id": "a8f11c82-1e7c-40c8-8a37-2339004df082"
      },
      "cell_type": "code",
      "id": "a8f11c82-1e7c-40c8-8a37-2339004df082",
      "execution_count": null,
      "outputs": []
    },
    {
      "source": [
        "\n",
        "# Create summary statistics\n",
        "summary_statistics = {'tide_high': {'mean':round(tide_high.mean(),2), \n",
        "              'median':round(tide_high.median(),2), \n",
        "              'interquartile_range':round((tide_high.quantile(.75) - tide_high.quantile(.25)),2)},\n",
        " 'tide_low': {'mean':round(tide_low.mean()), \n",
        "              'median':round(tide_low.median(),2), \n",
        "              'interquartile_range':round((tide_low.quantile(.75) - tide_low.quantile(.25)),2)}}\n",
        "\n",
        "summary_statistics"
      ],
      "metadata": {
        "executionTime": 81,
        "lastSuccessfullyExecutedCode": "\n# Create summary statistics\nsummary_statistics = {'tide_high': {'mean':round(tide_high.mean(),2), \n              'median':round(tide_high.median(),2), \n              'interquartile_range':round((tide_high.quantile(.75) - tide_high.quantile(.25)),2)},\n 'tide_low': {'mean':round(tide_low.mean()), \n              'median':round(tide_low.median(),2), \n              'interquartile_range':round((tide_low.quantile(.75) - tide_low.quantile(.25)),2)}}\n\nsummary_statistics",
        "id": "4b39d50b-2c29-46e8-bcbf-c9424047dadb",
        "outputId": "219ab6f0-f90e-4ebe-8a8b-fd9f80f0a7a8"
      },
      "cell_type": "code",
      "id": "4b39d50b-2c29-46e8-bcbf-c9424047dadb",
      "execution_count": null,
      "outputs": [
        {
          "output_type": "execute_result",
          "execution_count": 10,
          "data": {
            "text/plain": "{'tide_high': {'mean': 3.32, 'median': 3.35, 'interquartile_range': 0.74},\n 'tide_low': {'mean': -2, 'median': -2.41, 'interquartile_range': 0.54}}"
          },
          "metadata": {}
        }
      ]
    },
    {
      "source": [
        "# Calculate ratio of high tide days\n",
        "all_high_days = df.query('is_high_tide==1').groupby('year').count()['water_level']\n",
        "high_days = df.query(f'(water_level>{tide_high.quantile(.75)}) & (is_high_tide==1)').groupby('year').count()['water_level']\n",
        "high_ratio = (high_days/all_high_days).reset_index()\n"
      ],
      "metadata": {
        "executionTime": 50,
        "lastSuccessfullyExecutedCode": "# Calculate ratio of high tide days\nall_high_days = df.query('is_high_tide==1').groupby('year').count()['water_level']\nhigh_days = df.query(f'(water_level>{tide_high.quantile(.75)}) & (is_high_tide==1)').groupby('year').count()['water_level']\nhigh_ratio = (high_days/all_high_days).reset_index()\n",
        "id": "8ce62a6c-4eed-4049-8e40-67479de77f3b"
      },
      "cell_type": "code",
      "id": "8ce62a6c-4eed-4049-8e40-67479de77f3b",
      "execution_count": null,
      "outputs": []
    },
    {
      "source": [
        "# Calculate ratio of low tide days\n",
        "all_low_days = df.query('is_high_tide==0').groupby('year').count()['water_level']\n",
        "low_days = df.query(f'(water_level<{tide_low.quantile(.25)}) & (is_high_tide==0)').groupby('year').count()['water_level']\n",
        "low_ratio = (low_days/all_low_days).reset_index()"
      ],
      "metadata": {
        "executionTime": 40,
        "lastSuccessfullyExecutedCode": "# Calculate ratio of low tide days\nall_low_days = df.query('is_high_tide==0').groupby('year').count()['water_level']\nlow_days = df.query(f'(water_level<{tide_low.quantile(.25)}) & (is_high_tide==0)').groupby('year').count()['water_level']\nlow_ratio = (low_days/all_low_days).reset_index()",
        "id": "cbd97de5-81b7-4446-b162-ae9cfed5421d"
      },
      "cell_type": "code",
      "id": "cbd97de5-81b7-4446-b162-ae9cfed5421d",
      "execution_count": null,
      "outputs": []
    },
    {
      "source": [
        "solution = {'summary_statistics':summary_statistics, 'high_ratio': high_ratio, 'low_ratio':low_ratio}\n",
        "print(solution)"
      ],
      "metadata": {
        "executionTime": 65,
        "lastSuccessfullyExecutedCode": "solution = {'summary_statistics':summary_statistics, 'high_ratio': high_ratio, 'low_ratio':low_ratio}\nprint(solution)",
        "id": "71b75ef6-c264-4b1f-a0a2-83969492f347",
        "outputId": "f94c05e2-881a-4985-df05-71e5e60774da"
      },
      "cell_type": "code",
      "id": "71b75ef6-c264-4b1f-a0a2-83969492f347",
      "execution_count": null,
      "outputs": [
        {
          "output_type": "stream",
          "name": "stdout",
          "text": "{'summary_statistics': {'tide_high': {'mean': 3.32, 'median': 3.35, 'interquartile_range': 0.74}, 'tide_low': {'mean': -2, 'median': -2.41, 'interquartile_range': 0.54}}, 'high_ratio':     year  water_level\n0   1911     0.032787\n1   1912     0.127469\n2   1913     0.186846\n3   1914     0.161572\n4   1915     0.219219\n..   ...          ...\n80  1991     0.252125\n81  1992     0.265912\n82  1993     0.317597\n83  1994     0.357447\n84  1995     0.324823\n\n[85 rows x 2 columns], 'low_ratio':     year  water_level\n0   1911     0.203463\n1   1912     0.192793\n2   1913     0.102985\n3   1914     0.141618\n4   1915     0.139818\n..   ...          ...\n80  1991     0.312057\n81  1992     0.265912\n82  1993     0.252496\n83  1994     0.252482\n84  1995     0.246809\n\n[85 rows x 2 columns]}\n"
        }
      ]
    }
  ],
  "metadata": {
    "editor": "DataCamp Workspace",
    "kernelspec": {
      "display_name": "Python 3 (ipykernel)",
      "language": "python",
      "name": "python3"
    },
    "language_info": {
      "codemirror_mode": {
        "name": "ipython",
        "version": 3
      },
      "file_extension": ".py",
      "mimetype": "text/x-python",
      "name": "python",
      "nbconvert_exporter": "python",
      "pygments_lexer": "ipython3",
      "version": "3.8.10"
    },
    "colab": {
      "provenance": [],
      "include_colab_link": true
    }
  },
  "nbformat": 4,
  "nbformat_minor": 5
}