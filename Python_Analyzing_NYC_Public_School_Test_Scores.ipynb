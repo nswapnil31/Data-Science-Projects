{
  "cells": [
    {
      "cell_type": "markdown",
      "metadata": {
        "id": "view-in-github",
        "colab_type": "text"
      },
      "source": [
        "<a href=\"https://colab.research.google.com/github/nswapnil31/Data-Science-Projects/blob/main/Python_Analyzing_NYC_Public_School_Test_Scores.ipynb\" target=\"_parent\"><img src=\"https://colab.research.google.com/assets/colab-badge.svg\" alt=\"Open In Colab\"/></a>"
      ]
    },
    {
      "source": [
        "\n",
        "Every year, American high school students take SATs, which are standardized tests intended to measure literacy, numeracy, and writing skills. There are three sections - reading, math, and writing, each with a maximum score of 800 points. These tests are extremely important for students and colleges, as they play a pivotal role in the admissions process.\n",
        "\n",
        "Analyzing the performance of schools is important for a variety of stakeholders, including policy and education professionals, researchers, government, and even parents considering which school their children should attend. \n",
        "\n",
        "You have been tasked with answering three key questions about New York City (NYC) public school SAT performance:\n",
        "\n",
        "## Which schools produce the highest math scores?\n",
        "* Specifically, which schools have an average math SAT score of at least 80%?\n",
        "* Save the results as a pandas DataFrame called `best_math_schools`.\n",
        "\n",
        "## Who are the top 10 schools based on average results across reading, math, and writing?\n",
        "* Save the results as a pandas DataFrame called `top_10_schools`.\n",
        "\n",
        "## Which NYC borough has the largest standard deviation for SAT results?\n",
        "* Save the results as a pandas DataFrame called `largest_std_dev`.\n",
        "\n",
        "## Completing the project\n",
        "\n",
        "* Create a dictionary called `schools_analysis` containing the following key-value pairs:\n",
        "\t- `\"best_math_schools\"`: `best_math_schools` DataFrame.\n",
        "\t- `\"top_10_schools\"`: `top_10_schools` DataFrame.\n",
        "    - `\"largest_SAT_std_dev\"`: `largest_std_dev` DataFrame."
      ],
      "metadata": {
        "id": "31abcb2c"
      },
      "id": "31abcb2c",
      "cell_type": "markdown"
    },
    {
      "source": [
        "# Start coding here... \n",
        "import pandas as pd"
      ],
      "metadata": {
        "id": "d0eb4f16-5a99-460d-a5ba-706b7ef0bbe7",
        "executionTime": 56,
        "lastSuccessfullyExecutedCode": "# Start coding here... \nimport pandas as pd"
      },
      "id": "d0eb4f16-5a99-460d-a5ba-706b7ef0bbe7",
      "cell_type": "code",
      "execution_count": null,
      "outputs": []
    },
    {
      "source": [
        "# Share your results in this format\n",
        "schools_analysis = {\"best_math_schools\": \"Your answer\",\n",
        "                    \"top_10_schools\": \"Your answer\",\n",
        "                    \"largest_SAT_std_dev\": \"Your answer\"}\n",
        "\n",
        "# Call the answer!\n",
        "print(schools_analysis)"
      ],
      "metadata": {
        "executionTime": 42,
        "lastSuccessfullyExecutedCode": "# Share your results in this format\nschools_analysis = {\"best_math_schools\": \"Your answer\",\n                    \"top_10_schools\": \"Your answer\",\n                    \"largest_SAT_std_dev\": \"Your answer\"}\n\n# Call the answer!\nprint(schools_analysis)",
        "id": "d3a5d243-96ed-4393-9a47-ce61f850ff5e",
        "outputId": "8991c68e-6f19-40d0-b10f-40c7f20879dd"
      },
      "id": "d3a5d243-96ed-4393-9a47-ce61f850ff5e",
      "cell_type": "code",
      "execution_count": null,
      "outputs": [
        {
          "output_type": "stream",
          "name": "stdout",
          "text": "{'best_math_schools': 'Your answer', 'top_10_schools': 'Your answer', 'largest_SAT_std_dev': 'Your answer'}\n"
        }
      ]
    },
    {
      "source": [
        "schools = pd.read_csv('schools.csv')\n",
        "schools.head()"
      ],
      "metadata": {
        "executionTime": 121,
        "lastSuccessfullyExecutedCode": "schools = pd.read_csv('schools.csv')\nschools.head()",
        "id": "cfd4d361-0eb0-4800-953e-26b52ed20bd1",
        "outputId": "5c1ac065-5d7e-4e85-dc1c-62b5260a3112"
      },
      "cell_type": "code",
      "id": "cfd4d361-0eb0-4800-953e-26b52ed20bd1",
      "execution_count": null,
      "outputs": [
        {
          "output_type": "execute_result",
          "execution_count": 7,
          "data": {
            "application/com.datacamp.data-table.v1+json": {
              "table": {
                "schema": {
                  "fields": [
                    {
                      "name": "index",
                      "type": "integer"
                    },
                    {
                      "name": "school_name",
                      "type": "string"
                    },
                    {
                      "name": "borough",
                      "type": "string"
                    },
                    {
                      "name": "building_code",
                      "type": "string"
                    },
                    {
                      "name": "average_math",
                      "type": "integer"
                    },
                    {
                      "name": "average_reading",
                      "type": "integer"
                    },
                    {
                      "name": "average_writing",
                      "type": "integer"
                    },
                    {
                      "name": "percent_tested",
                      "type": "number"
                    }
                  ],
                  "primaryKey": [
                    "index"
                  ],
                  "pandas_version": "1.4.0"
                },
                "data": [
                  {
                    "index": 0,
                    "school_name": "New Explorations into Science, Technology and Math High School",
                    "borough": "Manhattan",
                    "building_code": "M022",
                    "average_math": 657,
                    "average_reading": 601,
                    "average_writing": 601,
                    "percent_tested": null
                  },
                  {
                    "index": 1,
                    "school_name": "Essex Street Academy",
                    "borough": "Manhattan",
                    "building_code": "M445",
                    "average_math": 395,
                    "average_reading": 411,
                    "average_writing": 387,
                    "percent_tested": 78.9
                  },
                  {
                    "index": 2,
                    "school_name": "Lower Manhattan Arts Academy",
                    "borough": "Manhattan",
                    "building_code": "M445",
                    "average_math": 418,
                    "average_reading": 428,
                    "average_writing": 415,
                    "percent_tested": 65.1
                  },
                  {
                    "index": 3,
                    "school_name": "High School for Dual Language and Asian Studies",
                    "borough": "Manhattan",
                    "building_code": "M445",
                    "average_math": 613,
                    "average_reading": 453,
                    "average_writing": 463,
                    "percent_tested": 95.9
                  },
                  {
                    "index": 4,
                    "school_name": "Henry Street School for International Studies",
                    "borough": "Manhattan",
                    "building_code": "M056",
                    "average_math": 410,
                    "average_reading": 406,
                    "average_writing": 381,
                    "percent_tested": 59.7
                  }
                ]
              },
              "total_rows": 5,
              "truncation_type": null
            },
            "text/plain": "                                         school_name  ... percent_tested\n0  New Explorations into Science, Technology and ...  ...            NaN\n1                               Essex Street Academy  ...           78.9\n2                       Lower Manhattan Arts Academy  ...           65.1\n3    High School for Dual Language and Asian Studies  ...           95.9\n4      Henry Street School for International Studies  ...           59.7\n\n[5 rows x 7 columns]",
            "text/html": "<div>\n<style scoped>\n    .dataframe tbody tr th:only-of-type {\n        vertical-align: middle;\n    }\n\n    .dataframe tbody tr th {\n        vertical-align: top;\n    }\n\n    .dataframe thead th {\n        text-align: right;\n    }\n</style>\n<table border=\"1\" class=\"dataframe\">\n  <thead>\n    <tr style=\"text-align: right;\">\n      <th></th>\n      <th>school_name</th>\n      <th>borough</th>\n      <th>building_code</th>\n      <th>average_math</th>\n      <th>average_reading</th>\n      <th>average_writing</th>\n      <th>percent_tested</th>\n    </tr>\n  </thead>\n  <tbody>\n    <tr>\n      <th>0</th>\n      <td>New Explorations into Science, Technology and ...</td>\n      <td>Manhattan</td>\n      <td>M022</td>\n      <td>657</td>\n      <td>601</td>\n      <td>601</td>\n      <td>NaN</td>\n    </tr>\n    <tr>\n      <th>1</th>\n      <td>Essex Street Academy</td>\n      <td>Manhattan</td>\n      <td>M445</td>\n      <td>395</td>\n      <td>411</td>\n      <td>387</td>\n      <td>78.9</td>\n    </tr>\n    <tr>\n      <th>2</th>\n      <td>Lower Manhattan Arts Academy</td>\n      <td>Manhattan</td>\n      <td>M445</td>\n      <td>418</td>\n      <td>428</td>\n      <td>415</td>\n      <td>65.1</td>\n    </tr>\n    <tr>\n      <th>3</th>\n      <td>High School for Dual Language and Asian Studies</td>\n      <td>Manhattan</td>\n      <td>M445</td>\n      <td>613</td>\n      <td>453</td>\n      <td>463</td>\n      <td>95.9</td>\n    </tr>\n    <tr>\n      <th>4</th>\n      <td>Henry Street School for International Studies</td>\n      <td>Manhattan</td>\n      <td>M056</td>\n      <td>410</td>\n      <td>406</td>\n      <td>381</td>\n      <td>59.7</td>\n    </tr>\n  </tbody>\n</table>\n</div>"
          },
          "metadata": {}
        }
      ]
    },
    {
      "source": [
        "# Find the best schools for math\n",
        "best_math_schools = schools[schools[\"average_math\"] >= 640][[\"school_name\", \"average_math\"]].sort_values(\"average_math\", ascending=False)\n",
        "best_math_schools"
      ],
      "metadata": {
        "executionTime": 53,
        "lastSuccessfullyExecutedCode": "# Find the best schools for math\nbest_math_schools = schools[schools[\"average_math\"] >= 640][[\"school_name\", \"average_math\"]].sort_values(\"average_math\", ascending=False)\nbest_math_schools",
        "id": "d70bebfe-a22f-4922-8cca-24d50c285bfd",
        "outputId": "51cfd6ba-e3bd-4744-efc3-05596c79b8a8"
      },
      "cell_type": "code",
      "id": "d70bebfe-a22f-4922-8cca-24d50c285bfd",
      "execution_count": null,
      "outputs": [
        {
          "output_type": "execute_result",
          "execution_count": 9,
          "data": {
            "application/com.datacamp.data-table.v1+json": {
              "table": {
                "schema": {
                  "fields": [
                    {
                      "name": "index",
                      "type": "integer"
                    },
                    {
                      "name": "school_name",
                      "type": "string"
                    },
                    {
                      "name": "average_math",
                      "type": "integer"
                    }
                  ],
                  "primaryKey": [
                    "index"
                  ],
                  "pandas_version": "1.4.0"
                },
                "data": [
                  {
                    "index": 88,
                    "school_name": "Stuyvesant High School",
                    "average_math": 754
                  },
                  {
                    "index": 170,
                    "school_name": "Bronx High School of Science",
                    "average_math": 714
                  },
                  {
                    "index": 93,
                    "school_name": "Staten Island Technical High School",
                    "average_math": 711
                  },
                  {
                    "index": 365,
                    "school_name": "Queens High School for the Sciences at York College",
                    "average_math": 701
                  },
                  {
                    "index": 68,
                    "school_name": "High School for Mathematics, Science, and Engineering at City College",
                    "average_math": 683
                  },
                  {
                    "index": 280,
                    "school_name": "Brooklyn Technical High School",
                    "average_math": 682
                  },
                  {
                    "index": 333,
                    "school_name": "Townsend Harris High School",
                    "average_math": 680
                  },
                  {
                    "index": 174,
                    "school_name": "High School of American Studies at Lehman College",
                    "average_math": 669
                  },
                  {
                    "index": 0,
                    "school_name": "New Explorations into Science, Technology and Math High School",
                    "average_math": 657
                  },
                  {
                    "index": 45,
                    "school_name": "Eleanor Roosevelt High School",
                    "average_math": 641
                  }
                ]
              },
              "total_rows": 10,
              "truncation_type": null
            },
            "text/plain": "                                           school_name  average_math\n88                              Stuyvesant High School           754\n170                       Bronx High School of Science           714\n93                 Staten Island Technical High School           711\n365  Queens High School for the Sciences at York Co...           701\n68   High School for Mathematics, Science, and Engi...           683\n280                     Brooklyn Technical High School           682\n333                        Townsend Harris High School           680\n174  High School of American Studies at Lehman College           669\n0    New Explorations into Science, Technology and ...           657\n45                       Eleanor Roosevelt High School           641",
            "text/html": "<div>\n<style scoped>\n    .dataframe tbody tr th:only-of-type {\n        vertical-align: middle;\n    }\n\n    .dataframe tbody tr th {\n        vertical-align: top;\n    }\n\n    .dataframe thead th {\n        text-align: right;\n    }\n</style>\n<table border=\"1\" class=\"dataframe\">\n  <thead>\n    <tr style=\"text-align: right;\">\n      <th></th>\n      <th>school_name</th>\n      <th>average_math</th>\n    </tr>\n  </thead>\n  <tbody>\n    <tr>\n      <th>88</th>\n      <td>Stuyvesant High School</td>\n      <td>754</td>\n    </tr>\n    <tr>\n      <th>170</th>\n      <td>Bronx High School of Science</td>\n      <td>714</td>\n    </tr>\n    <tr>\n      <th>93</th>\n      <td>Staten Island Technical High School</td>\n      <td>711</td>\n    </tr>\n    <tr>\n      <th>365</th>\n      <td>Queens High School for the Sciences at York Co...</td>\n      <td>701</td>\n    </tr>\n    <tr>\n      <th>68</th>\n      <td>High School for Mathematics, Science, and Engi...</td>\n      <td>683</td>\n    </tr>\n    <tr>\n      <th>280</th>\n      <td>Brooklyn Technical High School</td>\n      <td>682</td>\n    </tr>\n    <tr>\n      <th>333</th>\n      <td>Townsend Harris High School</td>\n      <td>680</td>\n    </tr>\n    <tr>\n      <th>174</th>\n      <td>High School of American Studies at Lehman College</td>\n      <td>669</td>\n    </tr>\n    <tr>\n      <th>0</th>\n      <td>New Explorations into Science, Technology and ...</td>\n      <td>657</td>\n    </tr>\n    <tr>\n      <th>45</th>\n      <td>Eleanor Roosevelt High School</td>\n      <td>641</td>\n    </tr>\n  </tbody>\n</table>\n</div>"
          },
          "metadata": {}
        }
      ]
    },
    {
      "source": [
        "# Calculate average_SAT per school\n",
        "schools[\"average_SAT\"] = schools[\"average_math\"] + schools[\"average_reading\"] + schools[\"average_writing\"]\n",
        "schools.head()"
      ],
      "metadata": {
        "executionTime": 78,
        "lastSuccessfullyExecutedCode": "# Calculate average_SAT per school\nschools[\"average_SAT\"] = schools[\"average_math\"] + schools[\"average_reading\"] + schools[\"average_writing\"]\nschools.head()",
        "id": "9f6b8a75-0220-4b22-9531-85c53b29e4e5",
        "outputId": "06350ab3-d65a-4f04-ce35-6a816474175c"
      },
      "cell_type": "code",
      "id": "9f6b8a75-0220-4b22-9531-85c53b29e4e5",
      "execution_count": null,
      "outputs": [
        {
          "output_type": "execute_result",
          "execution_count": 11,
          "data": {
            "application/com.datacamp.data-table.v1+json": {
              "table": {
                "schema": {
                  "fields": [
                    {
                      "name": "index",
                      "type": "integer"
                    },
                    {
                      "name": "school_name",
                      "type": "string"
                    },
                    {
                      "name": "borough",
                      "type": "string"
                    },
                    {
                      "name": "building_code",
                      "type": "string"
                    },
                    {
                      "name": "average_math",
                      "type": "integer"
                    },
                    {
                      "name": "average_reading",
                      "type": "integer"
                    },
                    {
                      "name": "average_writing",
                      "type": "integer"
                    },
                    {
                      "name": "percent_tested",
                      "type": "number"
                    },
                    {
                      "name": "average_SAT",
                      "type": "integer"
                    }
                  ],
                  "primaryKey": [
                    "index"
                  ],
                  "pandas_version": "1.4.0"
                },
                "data": [
                  {
                    "index": 0,
                    "school_name": "New Explorations into Science, Technology and Math High School",
                    "borough": "Manhattan",
                    "building_code": "M022",
                    "average_math": 657,
                    "average_reading": 601,
                    "average_writing": 601,
                    "percent_tested": null,
                    "average_SAT": 1859
                  },
                  {
                    "index": 1,
                    "school_name": "Essex Street Academy",
                    "borough": "Manhattan",
                    "building_code": "M445",
                    "average_math": 395,
                    "average_reading": 411,
                    "average_writing": 387,
                    "percent_tested": 78.9,
                    "average_SAT": 1193
                  },
                  {
                    "index": 2,
                    "school_name": "Lower Manhattan Arts Academy",
                    "borough": "Manhattan",
                    "building_code": "M445",
                    "average_math": 418,
                    "average_reading": 428,
                    "average_writing": 415,
                    "percent_tested": 65.1,
                    "average_SAT": 1261
                  },
                  {
                    "index": 3,
                    "school_name": "High School for Dual Language and Asian Studies",
                    "borough": "Manhattan",
                    "building_code": "M445",
                    "average_math": 613,
                    "average_reading": 453,
                    "average_writing": 463,
                    "percent_tested": 95.9,
                    "average_SAT": 1529
                  },
                  {
                    "index": 4,
                    "school_name": "Henry Street School for International Studies",
                    "borough": "Manhattan",
                    "building_code": "M056",
                    "average_math": 410,
                    "average_reading": 406,
                    "average_writing": 381,
                    "percent_tested": 59.7,
                    "average_SAT": 1197
                  }
                ]
              },
              "total_rows": 5,
              "truncation_type": null
            },
            "text/plain": "                                         school_name  ... average_SAT\n0  New Explorations into Science, Technology and ...  ...        1859\n1                               Essex Street Academy  ...        1193\n2                       Lower Manhattan Arts Academy  ...        1261\n3    High School for Dual Language and Asian Studies  ...        1529\n4      Henry Street School for International Studies  ...        1197\n\n[5 rows x 8 columns]",
            "text/html": "<div>\n<style scoped>\n    .dataframe tbody tr th:only-of-type {\n        vertical-align: middle;\n    }\n\n    .dataframe tbody tr th {\n        vertical-align: top;\n    }\n\n    .dataframe thead th {\n        text-align: right;\n    }\n</style>\n<table border=\"1\" class=\"dataframe\">\n  <thead>\n    <tr style=\"text-align: right;\">\n      <th></th>\n      <th>school_name</th>\n      <th>borough</th>\n      <th>building_code</th>\n      <th>average_math</th>\n      <th>average_reading</th>\n      <th>average_writing</th>\n      <th>percent_tested</th>\n      <th>average_SAT</th>\n    </tr>\n  </thead>\n  <tbody>\n    <tr>\n      <th>0</th>\n      <td>New Explorations into Science, Technology and ...</td>\n      <td>Manhattan</td>\n      <td>M022</td>\n      <td>657</td>\n      <td>601</td>\n      <td>601</td>\n      <td>NaN</td>\n      <td>1859</td>\n    </tr>\n    <tr>\n      <th>1</th>\n      <td>Essex Street Academy</td>\n      <td>Manhattan</td>\n      <td>M445</td>\n      <td>395</td>\n      <td>411</td>\n      <td>387</td>\n      <td>78.9</td>\n      <td>1193</td>\n    </tr>\n    <tr>\n      <th>2</th>\n      <td>Lower Manhattan Arts Academy</td>\n      <td>Manhattan</td>\n      <td>M445</td>\n      <td>418</td>\n      <td>428</td>\n      <td>415</td>\n      <td>65.1</td>\n      <td>1261</td>\n    </tr>\n    <tr>\n      <th>3</th>\n      <td>High School for Dual Language and Asian Studies</td>\n      <td>Manhattan</td>\n      <td>M445</td>\n      <td>613</td>\n      <td>453</td>\n      <td>463</td>\n      <td>95.9</td>\n      <td>1529</td>\n    </tr>\n    <tr>\n      <th>4</th>\n      <td>Henry Street School for International Studies</td>\n      <td>Manhattan</td>\n      <td>M056</td>\n      <td>410</td>\n      <td>406</td>\n      <td>381</td>\n      <td>59.7</td>\n      <td>1197</td>\n    </tr>\n  </tbody>\n</table>\n</div>"
          },
          "metadata": {}
        }
      ]
    },
    {
      "source": [
        "# Top 10 performing schools\n",
        "top_10_schools = schools.sort_values(\"average_SAT\", ascending=False)[[\"school_name\", \"average_SAT\"]].head(10)\n",
        "top_10_schools"
      ],
      "metadata": {
        "executionTime": 66,
        "lastSuccessfullyExecutedCode": "# Top 10 performing schools\ntop_10_schools = schools.sort_values(\"average_SAT\", ascending=False)[[\"school_name\", \"average_SAT\"]].head(10)\ntop_10_schools",
        "id": "d900d568-4c74-44e6-ac4d-277830be3378",
        "outputId": "b15d4fe1-cd80-404e-e3cf-33842630cf65"
      },
      "cell_type": "code",
      "id": "d900d568-4c74-44e6-ac4d-277830be3378",
      "execution_count": null,
      "outputs": [
        {
          "output_type": "execute_result",
          "execution_count": 13,
          "data": {
            "application/com.datacamp.data-table.v1+json": {
              "table": {
                "schema": {
                  "fields": [
                    {
                      "name": "index",
                      "type": "integer"
                    },
                    {
                      "name": "school_name",
                      "type": "string"
                    },
                    {
                      "name": "average_SAT",
                      "type": "integer"
                    }
                  ],
                  "primaryKey": [
                    "index"
                  ],
                  "pandas_version": "1.4.0"
                },
                "data": [
                  {
                    "index": 88,
                    "school_name": "Stuyvesant High School",
                    "average_SAT": 2144
                  },
                  {
                    "index": 170,
                    "school_name": "Bronx High School of Science",
                    "average_SAT": 2041
                  },
                  {
                    "index": 93,
                    "school_name": "Staten Island Technical High School",
                    "average_SAT": 2041
                  },
                  {
                    "index": 174,
                    "school_name": "High School of American Studies at Lehman College",
                    "average_SAT": 2013
                  },
                  {
                    "index": 333,
                    "school_name": "Townsend Harris High School",
                    "average_SAT": 1981
                  },
                  {
                    "index": 365,
                    "school_name": "Queens High School for the Sciences at York College",
                    "average_SAT": 1947
                  },
                  {
                    "index": 5,
                    "school_name": "Bard High School Early College",
                    "average_SAT": 1914
                  },
                  {
                    "index": 280,
                    "school_name": "Brooklyn Technical High School",
                    "average_SAT": 1896
                  },
                  {
                    "index": 45,
                    "school_name": "Eleanor Roosevelt High School",
                    "average_SAT": 1889
                  },
                  {
                    "index": 68,
                    "school_name": "High School for Mathematics, Science, and Engineering at City College",
                    "average_SAT": 1889
                  }
                ]
              },
              "total_rows": 10,
              "truncation_type": null
            },
            "text/plain": "                                           school_name  average_SAT\n88                              Stuyvesant High School         2144\n170                       Bronx High School of Science         2041\n93                 Staten Island Technical High School         2041\n174  High School of American Studies at Lehman College         2013\n333                        Townsend Harris High School         1981\n365  Queens High School for the Sciences at York Co...         1947\n5                       Bard High School Early College         1914\n280                     Brooklyn Technical High School         1896\n45                       Eleanor Roosevelt High School         1889\n68   High School for Mathematics, Science, and Engi...         1889",
            "text/html": "<div>\n<style scoped>\n    .dataframe tbody tr th:only-of-type {\n        vertical-align: middle;\n    }\n\n    .dataframe tbody tr th {\n        vertical-align: top;\n    }\n\n    .dataframe thead th {\n        text-align: right;\n    }\n</style>\n<table border=\"1\" class=\"dataframe\">\n  <thead>\n    <tr style=\"text-align: right;\">\n      <th></th>\n      <th>school_name</th>\n      <th>average_SAT</th>\n    </tr>\n  </thead>\n  <tbody>\n    <tr>\n      <th>88</th>\n      <td>Stuyvesant High School</td>\n      <td>2144</td>\n    </tr>\n    <tr>\n      <th>170</th>\n      <td>Bronx High School of Science</td>\n      <td>2041</td>\n    </tr>\n    <tr>\n      <th>93</th>\n      <td>Staten Island Technical High School</td>\n      <td>2041</td>\n    </tr>\n    <tr>\n      <th>174</th>\n      <td>High School of American Studies at Lehman College</td>\n      <td>2013</td>\n    </tr>\n    <tr>\n      <th>333</th>\n      <td>Townsend Harris High School</td>\n      <td>1981</td>\n    </tr>\n    <tr>\n      <th>365</th>\n      <td>Queens High School for the Sciences at York Co...</td>\n      <td>1947</td>\n    </tr>\n    <tr>\n      <th>5</th>\n      <td>Bard High School Early College</td>\n      <td>1914</td>\n    </tr>\n    <tr>\n      <th>280</th>\n      <td>Brooklyn Technical High School</td>\n      <td>1896</td>\n    </tr>\n    <tr>\n      <th>45</th>\n      <td>Eleanor Roosevelt High School</td>\n      <td>1889</td>\n    </tr>\n    <tr>\n      <th>68</th>\n      <td>High School for Mathematics, Science, and Engi...</td>\n      <td>1889</td>\n    </tr>\n  </tbody>\n</table>\n</div>"
          },
          "metadata": {}
        }
      ]
    },
    {
      "source": [
        "# Which borough has the highest standard deviation for average_SAT?\n",
        "boroughs = schools.groupby(\"borough\")[\"average_SAT\"].agg([\"count\", \"mean\", \"std\"]).round(0).sort_values(\"mean\", ascending=False)\n",
        "largest_std_dev = boroughs[boroughs[\"std\"] == boroughs[\"std\"].max()]\n",
        "boroughs"
      ],
      "metadata": {
        "executionTime": 78,
        "lastSuccessfullyExecutedCode": "# Which borough has the highest standard deviation for average_SAT?\nboroughs = schools.groupby(\"borough\")[\"average_SAT\"].agg([\"count\", \"mean\", \"std\"]).round(0).sort_values(\"mean\", ascending=False)\nlargest_std_dev = boroughs[boroughs[\"std\"] == boroughs[\"std\"].max()]\nboroughs",
        "id": "da873c9f-efc0-4746-95a2-1e4ddbc6bbe6",
        "outputId": "16edf77f-67bf-46fc-e2ae-eff59d1ff9b0"
      },
      "cell_type": "code",
      "id": "da873c9f-efc0-4746-95a2-1e4ddbc6bbe6",
      "execution_count": null,
      "outputs": [
        {
          "output_type": "execute_result",
          "execution_count": 15,
          "data": {
            "application/com.datacamp.data-table.v1+json": {
              "table": {
                "schema": {
                  "fields": [
                    {
                      "name": "borough",
                      "type": "string"
                    },
                    {
                      "name": "count",
                      "type": "integer"
                    },
                    {
                      "name": "mean",
                      "type": "number"
                    },
                    {
                      "name": "std",
                      "type": "number"
                    }
                  ],
                  "primaryKey": [
                    "borough"
                  ],
                  "pandas_version": "1.4.0"
                },
                "data": [
                  {
                    "borough": "Staten Island",
                    "count": 10,
                    "mean": 1439,
                    "std": 222
                  },
                  {
                    "borough": "Queens",
                    "count": 69,
                    "mean": 1345,
                    "std": 195
                  },
                  {
                    "borough": "Manhattan",
                    "count": 89,
                    "mean": 1340,
                    "std": 230
                  },
                  {
                    "borough": "Brooklyn",
                    "count": 109,
                    "mean": 1230,
                    "std": 155
                  },
                  {
                    "borough": "Bronx",
                    "count": 98,
                    "mean": 1203,
                    "std": 150
                  }
                ]
              },
              "total_rows": 5,
              "truncation_type": null
            },
            "text/plain": "               count    mean    std\nborough                            \nStaten Island     10  1439.0  222.0\nQueens            69  1345.0  195.0\nManhattan         89  1340.0  230.0\nBrooklyn         109  1230.0  155.0\nBronx             98  1203.0  150.0",
            "text/html": "<div>\n<style scoped>\n    .dataframe tbody tr th:only-of-type {\n        vertical-align: middle;\n    }\n\n    .dataframe tbody tr th {\n        vertical-align: top;\n    }\n\n    .dataframe thead th {\n        text-align: right;\n    }\n</style>\n<table border=\"1\" class=\"dataframe\">\n  <thead>\n    <tr style=\"text-align: right;\">\n      <th></th>\n      <th>count</th>\n      <th>mean</th>\n      <th>std</th>\n    </tr>\n    <tr>\n      <th>borough</th>\n      <th></th>\n      <th></th>\n      <th></th>\n    </tr>\n  </thead>\n  <tbody>\n    <tr>\n      <th>Staten Island</th>\n      <td>10</td>\n      <td>1439.0</td>\n      <td>222.0</td>\n    </tr>\n    <tr>\n      <th>Queens</th>\n      <td>69</td>\n      <td>1345.0</td>\n      <td>195.0</td>\n    </tr>\n    <tr>\n      <th>Manhattan</th>\n      <td>89</td>\n      <td>1340.0</td>\n      <td>230.0</td>\n    </tr>\n    <tr>\n      <th>Brooklyn</th>\n      <td>109</td>\n      <td>1230.0</td>\n      <td>155.0</td>\n    </tr>\n    <tr>\n      <th>Bronx</th>\n      <td>98</td>\n      <td>1203.0</td>\n      <td>150.0</td>\n    </tr>\n  </tbody>\n</table>\n</div>"
          },
          "metadata": {}
        }
      ]
    },
    {
      "source": [
        "# Share your results in this format\n",
        "schools_analysis = {\"best_math_schools\": best_math_schools,\n",
        "                    \"top_10_schools\": top_10_schools,\n",
        "                    \"largest_SAT_std_dev\": largest_std_dev}\n",
        "\n",
        "# Call the answer!\n",
        "print(schools_analysis)"
      ],
      "metadata": {
        "executionTime": 50,
        "lastSuccessfullyExecutedCode": "# Share your results in this format\nschools_analysis = {\"best_math_schools\": best_math_schools,\n                    \"top_10_schools\": top_10_schools,\n                    \"largest_SAT_std_dev\": largest_std_dev}\n\n# Call the answer!\nprint(schools_analysis)",
        "id": "8fe782ec-05d0-4b81-a398-4c500aec76ee",
        "outputId": "fc86b920-c6f4-4c34-f778-7fcde1fb023f"
      },
      "cell_type": "code",
      "id": "8fe782ec-05d0-4b81-a398-4c500aec76ee",
      "execution_count": null,
      "outputs": [
        {
          "output_type": "stream",
          "name": "stdout",
          "text": "{'best_math_schools':                                            school_name  average_math\n88                              Stuyvesant High School           754\n170                       Bronx High School of Science           714\n93                 Staten Island Technical High School           711\n365  Queens High School for the Sciences at York Co...           701\n68   High School for Mathematics, Science, and Engi...           683\n280                     Brooklyn Technical High School           682\n333                        Townsend Harris High School           680\n174  High School of American Studies at Lehman College           669\n0    New Explorations into Science, Technology and ...           657\n45                       Eleanor Roosevelt High School           641, 'top_10_schools':                                            school_name  average_SAT\n88                              Stuyvesant High School         2144\n170                       Bronx High School of Science         2041\n93                 Staten Island Technical High School         2041\n174  High School of American Studies at Lehman College         2013\n333                        Townsend Harris High School         1981\n365  Queens High School for the Sciences at York Co...         1947\n5                       Bard High School Early College         1914\n280                     Brooklyn Technical High School         1896\n45                       Eleanor Roosevelt High School         1889\n68   High School for Mathematics, Science, and Engi...         1889, 'largest_SAT_std_dev':            count    mean    std\nborough                        \nManhattan     89  1340.0  230.0}\n"
        }
      ]
    }
  ],
  "metadata": {
    "colab": {
      "provenance": [],
      "include_colab_link": true
    },
    "kernelspec": {
      "display_name": "Python 3 (ipykernel)",
      "language": "python",
      "name": "python3"
    },
    "language_info": {
      "name": "python",
      "version": "3.8.10",
      "mimetype": "text/x-python",
      "codemirror_mode": {
        "name": "ipython",
        "version": 3
      },
      "pygments_lexer": "ipython3",
      "nbconvert_exporter": "python",
      "file_extension": ".py"
    },
    "vscode": {
      "interpreter": {
        "hash": "aee8b7b246df8f9039afb4144a1f6fd8d2ca17a180786b69acc140d282b71a49"
      }
    },
    "editor": "DataCamp Workspace"
  },
  "nbformat": 4,
  "nbformat_minor": 5
}