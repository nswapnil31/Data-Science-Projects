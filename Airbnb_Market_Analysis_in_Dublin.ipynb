{
  "nbformat": 4,
  "nbformat_minor": 0,
  "metadata": {
    "colab": {
      "provenance": [],
      "authorship_tag": "ABX9TyP0oJ0US+VlQzTPCR1BQ/mr",
      "include_colab_link": true
    },
    "kernelspec": {
      "name": "python3",
      "display_name": "Python 3"
    },
    "language_info": {
      "name": "python"
    }
  },
  "cells": [
    {
      "cell_type": "markdown",
      "metadata": {
        "id": "view-in-github",
        "colab_type": "text"
      },
      "source": [
        "<a href=\"https://colab.research.google.com/github/nswapnil31/Data-Science-Projects/blob/main/Airbnb_Market_Analysis_in_Dublin.ipynb\" target=\"_parent\"><img src=\"https://colab.research.google.com/assets/colab-badge.svg\" alt=\"Open In Colab\"/></a>"
      ]
    },
    {
      "cell_type": "markdown",
      "source": [
        "**Assignment**\n",
        "\n",
        "A new city manager for Airbnb has started in Dublin and wants to better understand:\n",
        "\n",
        "* what guests are searching for in Dublin,\n",
        "* which inquiries hosts tend to accept.\n",
        "\n",
        "Based on the findings the new city manager will try to boost the number and quality of hosts in Dublin to fit the demands from guests. The goal of this challenge is to analyze, understand, visualize, and communicate the demand / supply in the market. For example you may want to look at the breakdown of start date day of the week, or number of nights, or room type that is searched for, and how many hosts accepted the reservation. In particular, we are interested in:\n",
        "\n",
        "* what the gaps are between guest demand and host supply that the new city manager could plug to increase the number of bookings in Dublin,\n",
        "* what other data would be useful to have to deepen the analysis and understanding.\n",
        "\n",
        "**Data Description**\n",
        "\n",
        "There are 2 datasets\n",
        "\n",
        "**searches.tsv** - Contains a row for each set of searches that a user does for Dublin\n",
        "\n",
        "**contacts.tsv**- Contains a row for every time that an assigned visitor makes an inquiry for a stay in a listing in Dublin\n",
        "searches dataset contains the following columns:\n",
        "\n",
        "ds - Date of the search\n",
        "\n",
        "id_user - Alphanumeric user_id\n",
        "\n",
        "ds_checkin - Date stamp of the check-in date of the search\n",
        "\n",
        "ds_checkout - Date stamp of the check-out date of the search\n",
        "\n",
        "n_searches - Number of searches in the search set\n",
        "\n",
        "n_nights - The number of nights the search was for\n",
        "\n",
        "n_guests_min - The minimum number of guests selected in a search set\n",
        "\n",
        "n_guests_max - The maximum number of guests selected in a search set\n",
        "\n",
        "origin_country - The country the search was from\n",
        "\n",
        "filter_price_min - The value of the lower bound of the price filter, if the user used it\n",
        "\n",
        "filter_price_max - The value of the upper bound of the price filter, if the user used it\n",
        "\n",
        "filter_room_types - The room types that the user filtered by, if the user used the room_types filter\n",
        "\n",
        "filter_neighborhoods - The neighborhoods types that the user filtered by, if the user used the neighborhoods filter\n",
        "\n",
        "contacts dataset contains the following columns:\n",
        "\n",
        "id_guest - Alphanumeric user_id of the guest making the inquiry\n",
        "\n",
        "id_host - Alphanumeric user_id of the host of the listing to which the inquiry is made\n",
        "\n",
        "id_listing - Alphanumeric identifier for the listing to which the inquiry is made\n",
        "\n",
        "ts_contact_at - UTC timestamp of the moment the inquiry is made.\n",
        "\n",
        "ts_reply_at - UTC timestamp of the moment the host replies to the inquiry, if so\n",
        "\n",
        "ts_accepted_at - UTC timestamp of the moment the host accepts the inquiry, if so\n",
        "\n",
        "ts_booking_at - UTC timestamp of the moment the booking is made, if so\n",
        "\n",
        "ds_checkin - Date stamp of the check-in date of the inquiry\n",
        "\n",
        "ds_checkout - Date stamp of the check-out date of the inquiry\n",
        "\n",
        "n_guests - The number of guests the inquiry is for\n",
        "\n",
        "n_messages - The total number of messages that were sent around this inquiry"
      ],
      "metadata": {
        "id": "eOx-OsxXk88B"
      }
    },
    {
      "cell_type": "code",
      "execution_count": 11,
      "metadata": {
        "id": "uCRR6yY_hTVD"
      },
      "outputs": [],
      "source": [
        "import pandas as pd\n",
        "import numpy as np\n",
        "import seaborn as sns\n",
        "\n",
        "import matplotlib.pyplot as plt\n",
        "import plotly.express as px"
      ]
    },
    {
      "cell_type": "code",
      "source": [
        "df_contacts = pd.read_csv('/content/sample_data/Airbnb_contacts.tsv', sep='\\t')\n",
        "df_contacts.head()"
      ],
      "metadata": {
        "colab": {
          "base_uri": "https://localhost:8080/",
          "height": 530
        },
        "id": "-Tx4Gj_flxdg",
        "outputId": "8c5125be-ce4d-481a-85dc-c47d3ceeea2a"
      },
      "execution_count": 12,
      "outputs": [
        {
          "output_type": "execute_result",
          "data": {
            "text/plain": [
              "                               id_guest                               id_host  \\\n",
              "0  000dfad9-459b-4f0b-8310-3d6ab34e4f57  13bb24b8-d432-43a2-9755-5ea11b43bb69   \n",
              "1  00197051-c6cb-4c3a-99e9-86615b819874  46aa3897-9c00-4d76-ac66-a307593d0675   \n",
              "2  0027538e-aa9e-4a02-8979-b8397e5d4cba  6bbb88ca-db66-48c5-9c4b-862f7706284a   \n",
              "3  0027538e-aa9e-4a02-8979-b8397e5d4cba  8772bc85-a9b7-4d85-a52d-41f3620c2912   \n",
              "4  0027538e-aa9e-4a02-8979-b8397e5d4cba  ac162061-55e2-4072-ac91-2e080f9581f2   \n",
              "\n",
              "                             id_listing          ts_contact_at  \\\n",
              "0  21d2b1a2-fdc3-4b4c-a1f0-0eaf0cc02370  2014-10-04 16:26:28.0   \n",
              "1  fb5ed09a-9848-4f2c-b2ef-34deb62164fb  2014-11-04 09:10:03.0   \n",
              "2  d3871da6-8012-4dc4-b508-c91f2c10c297  2014-10-10 12:02:50.0   \n",
              "3  0d9b5583-8053-4b67-adfe-8c29eb12efed  2014-10-10 15:23:53.0   \n",
              "4  ec68e0af-b0f2-42c7-b6f8-d41061c083ff  2014-10-10 15:22:26.0   \n",
              "\n",
              "             ts_reply_at         ts_accepted_at          ts_booking_at  \\\n",
              "0  2014-10-04 16:26:28.0  2014-10-04 16:26:28.0  2014-10-04 16:26:28.0   \n",
              "1  2014-11-04 09:45:50.0  2014-11-04 09:45:50.0  2014-11-04 12:20:46.0   \n",
              "2  2014-10-10 15:07:01.0                    NaN                    NaN   \n",
              "3                    NaN                    NaN                    NaN   \n",
              "4  2014-10-10 15:24:26.0  2014-10-10 15:24:26.0  2014-10-10 15:52:42.0   \n",
              "\n",
              "   ds_checkin ds_checkout  n_guests  n_messages  \n",
              "0  2014-10-13  2014-10-15         2          13  \n",
              "1  2014-11-27  2014-11-30         1          10  \n",
              "2  2014-10-17  2014-10-19         2           3  \n",
              "3  2014-10-17  2014-10-19         2           2  \n",
              "4  2014-10-17  2014-10-19         2          14  "
            ],
            "text/html": [
              "\n",
              "  <div id=\"df-ddca2484-1de9-4e67-80ff-dfebf720d195\">\n",
              "    <div class=\"colab-df-container\">\n",
              "      <div>\n",
              "<style scoped>\n",
              "    .dataframe tbody tr th:only-of-type {\n",
              "        vertical-align: middle;\n",
              "    }\n",
              "\n",
              "    .dataframe tbody tr th {\n",
              "        vertical-align: top;\n",
              "    }\n",
              "\n",
              "    .dataframe thead th {\n",
              "        text-align: right;\n",
              "    }\n",
              "</style>\n",
              "<table border=\"1\" class=\"dataframe\">\n",
              "  <thead>\n",
              "    <tr style=\"text-align: right;\">\n",
              "      <th></th>\n",
              "      <th>id_guest</th>\n",
              "      <th>id_host</th>\n",
              "      <th>id_listing</th>\n",
              "      <th>ts_contact_at</th>\n",
              "      <th>ts_reply_at</th>\n",
              "      <th>ts_accepted_at</th>\n",
              "      <th>ts_booking_at</th>\n",
              "      <th>ds_checkin</th>\n",
              "      <th>ds_checkout</th>\n",
              "      <th>n_guests</th>\n",
              "      <th>n_messages</th>\n",
              "    </tr>\n",
              "  </thead>\n",
              "  <tbody>\n",
              "    <tr>\n",
              "      <th>0</th>\n",
              "      <td>000dfad9-459b-4f0b-8310-3d6ab34e4f57</td>\n",
              "      <td>13bb24b8-d432-43a2-9755-5ea11b43bb69</td>\n",
              "      <td>21d2b1a2-fdc3-4b4c-a1f0-0eaf0cc02370</td>\n",
              "      <td>2014-10-04 16:26:28.0</td>\n",
              "      <td>2014-10-04 16:26:28.0</td>\n",
              "      <td>2014-10-04 16:26:28.0</td>\n",
              "      <td>2014-10-04 16:26:28.0</td>\n",
              "      <td>2014-10-13</td>\n",
              "      <td>2014-10-15</td>\n",
              "      <td>2</td>\n",
              "      <td>13</td>\n",
              "    </tr>\n",
              "    <tr>\n",
              "      <th>1</th>\n",
              "      <td>00197051-c6cb-4c3a-99e9-86615b819874</td>\n",
              "      <td>46aa3897-9c00-4d76-ac66-a307593d0675</td>\n",
              "      <td>fb5ed09a-9848-4f2c-b2ef-34deb62164fb</td>\n",
              "      <td>2014-11-04 09:10:03.0</td>\n",
              "      <td>2014-11-04 09:45:50.0</td>\n",
              "      <td>2014-11-04 09:45:50.0</td>\n",
              "      <td>2014-11-04 12:20:46.0</td>\n",
              "      <td>2014-11-27</td>\n",
              "      <td>2014-11-30</td>\n",
              "      <td>1</td>\n",
              "      <td>10</td>\n",
              "    </tr>\n",
              "    <tr>\n",
              "      <th>2</th>\n",
              "      <td>0027538e-aa9e-4a02-8979-b8397e5d4cba</td>\n",
              "      <td>6bbb88ca-db66-48c5-9c4b-862f7706284a</td>\n",
              "      <td>d3871da6-8012-4dc4-b508-c91f2c10c297</td>\n",
              "      <td>2014-10-10 12:02:50.0</td>\n",
              "      <td>2014-10-10 15:07:01.0</td>\n",
              "      <td>NaN</td>\n",
              "      <td>NaN</td>\n",
              "      <td>2014-10-17</td>\n",
              "      <td>2014-10-19</td>\n",
              "      <td>2</td>\n",
              "      <td>3</td>\n",
              "    </tr>\n",
              "    <tr>\n",
              "      <th>3</th>\n",
              "      <td>0027538e-aa9e-4a02-8979-b8397e5d4cba</td>\n",
              "      <td>8772bc85-a9b7-4d85-a52d-41f3620c2912</td>\n",
              "      <td>0d9b5583-8053-4b67-adfe-8c29eb12efed</td>\n",
              "      <td>2014-10-10 15:23:53.0</td>\n",
              "      <td>NaN</td>\n",
              "      <td>NaN</td>\n",
              "      <td>NaN</td>\n",
              "      <td>2014-10-17</td>\n",
              "      <td>2014-10-19</td>\n",
              "      <td>2</td>\n",
              "      <td>2</td>\n",
              "    </tr>\n",
              "    <tr>\n",
              "      <th>4</th>\n",
              "      <td>0027538e-aa9e-4a02-8979-b8397e5d4cba</td>\n",
              "      <td>ac162061-55e2-4072-ac91-2e080f9581f2</td>\n",
              "      <td>ec68e0af-b0f2-42c7-b6f8-d41061c083ff</td>\n",
              "      <td>2014-10-10 15:22:26.0</td>\n",
              "      <td>2014-10-10 15:24:26.0</td>\n",
              "      <td>2014-10-10 15:24:26.0</td>\n",
              "      <td>2014-10-10 15:52:42.0</td>\n",
              "      <td>2014-10-17</td>\n",
              "      <td>2014-10-19</td>\n",
              "      <td>2</td>\n",
              "      <td>14</td>\n",
              "    </tr>\n",
              "  </tbody>\n",
              "</table>\n",
              "</div>\n",
              "      <button class=\"colab-df-convert\" onclick=\"convertToInteractive('df-ddca2484-1de9-4e67-80ff-dfebf720d195')\"\n",
              "              title=\"Convert this dataframe to an interactive table.\"\n",
              "              style=\"display:none;\">\n",
              "        \n",
              "  <svg xmlns=\"http://www.w3.org/2000/svg\" height=\"24px\"viewBox=\"0 0 24 24\"\n",
              "       width=\"24px\">\n",
              "    <path d=\"M0 0h24v24H0V0z\" fill=\"none\"/>\n",
              "    <path d=\"M18.56 5.44l.94 2.06.94-2.06 2.06-.94-2.06-.94-.94-2.06-.94 2.06-2.06.94zm-11 1L8.5 8.5l.94-2.06 2.06-.94-2.06-.94L8.5 2.5l-.94 2.06-2.06.94zm10 10l.94 2.06.94-2.06 2.06-.94-2.06-.94-.94-2.06-.94 2.06-2.06.94z\"/><path d=\"M17.41 7.96l-1.37-1.37c-.4-.4-.92-.59-1.43-.59-.52 0-1.04.2-1.43.59L10.3 9.45l-7.72 7.72c-.78.78-.78 2.05 0 2.83L4 21.41c.39.39.9.59 1.41.59.51 0 1.02-.2 1.41-.59l7.78-7.78 2.81-2.81c.8-.78.8-2.07 0-2.86zM5.41 20L4 18.59l7.72-7.72 1.47 1.35L5.41 20z\"/>\n",
              "  </svg>\n",
              "      </button>\n",
              "      \n",
              "  <style>\n",
              "    .colab-df-container {\n",
              "      display:flex;\n",
              "      flex-wrap:wrap;\n",
              "      gap: 12px;\n",
              "    }\n",
              "\n",
              "    .colab-df-convert {\n",
              "      background-color: #E8F0FE;\n",
              "      border: none;\n",
              "      border-radius: 50%;\n",
              "      cursor: pointer;\n",
              "      display: none;\n",
              "      fill: #1967D2;\n",
              "      height: 32px;\n",
              "      padding: 0 0 0 0;\n",
              "      width: 32px;\n",
              "    }\n",
              "\n",
              "    .colab-df-convert:hover {\n",
              "      background-color: #E2EBFA;\n",
              "      box-shadow: 0px 1px 2px rgba(60, 64, 67, 0.3), 0px 1px 3px 1px rgba(60, 64, 67, 0.15);\n",
              "      fill: #174EA6;\n",
              "    }\n",
              "\n",
              "    [theme=dark] .colab-df-convert {\n",
              "      background-color: #3B4455;\n",
              "      fill: #D2E3FC;\n",
              "    }\n",
              "\n",
              "    [theme=dark] .colab-df-convert:hover {\n",
              "      background-color: #434B5C;\n",
              "      box-shadow: 0px 1px 3px 1px rgba(0, 0, 0, 0.15);\n",
              "      filter: drop-shadow(0px 1px 2px rgba(0, 0, 0, 0.3));\n",
              "      fill: #FFFFFF;\n",
              "    }\n",
              "  </style>\n",
              "\n",
              "      <script>\n",
              "        const buttonEl =\n",
              "          document.querySelector('#df-ddca2484-1de9-4e67-80ff-dfebf720d195 button.colab-df-convert');\n",
              "        buttonEl.style.display =\n",
              "          google.colab.kernel.accessAllowed ? 'block' : 'none';\n",
              "\n",
              "        async function convertToInteractive(key) {\n",
              "          const element = document.querySelector('#df-ddca2484-1de9-4e67-80ff-dfebf720d195');\n",
              "          const dataTable =\n",
              "            await google.colab.kernel.invokeFunction('convertToInteractive',\n",
              "                                                     [key], {});\n",
              "          if (!dataTable) return;\n",
              "\n",
              "          const docLinkHtml = 'Like what you see? Visit the ' +\n",
              "            '<a target=\"_blank\" href=https://colab.research.google.com/notebooks/data_table.ipynb>data table notebook</a>'\n",
              "            + ' to learn more about interactive tables.';\n",
              "          element.innerHTML = '';\n",
              "          dataTable['output_type'] = 'display_data';\n",
              "          await google.colab.output.renderOutput(dataTable, element);\n",
              "          const docLink = document.createElement('div');\n",
              "          docLink.innerHTML = docLinkHtml;\n",
              "          element.appendChild(docLink);\n",
              "        }\n",
              "      </script>\n",
              "    </div>\n",
              "  </div>\n",
              "  "
            ]
          },
          "metadata": {},
          "execution_count": 12
        }
      ]
    },
    {
      "cell_type": "code",
      "source": [
        "df_searches = pd.read_csv('/content/sample_data/Airbnb_searches.tsv', sep='\\t')\n",
        "df_searches.head()"
      ],
      "metadata": {
        "colab": {
          "base_uri": "https://localhost:8080/",
          "height": 530
        },
        "id": "gCmF7r83lxgY",
        "outputId": "ec97ede0-34ba-4199-90d6-0a13811acf49"
      },
      "execution_count": 13,
      "outputs": [
        {
          "output_type": "execute_result",
          "data": {
            "text/plain": [
              "           ds                               id_user  ds_checkin ds_checkout  \\\n",
              "0  2014-10-01  0000af0a-6f26-4233-9832-27efbfb36148  2014-10-09  2014-10-12   \n",
              "1  2014-10-01  0000af0a-6f26-4233-9832-27efbfb36148  2014-10-09  2014-10-19   \n",
              "2  2014-10-01  000cd9d3-e05b-4016-9e09-34a6f8ba2fc5         NaN         NaN   \n",
              "3  2014-10-01  000cd9d3-e05b-4016-9e09-34a6f8ba2fc5  2014-11-08  2014-11-10   \n",
              "4  2014-10-01  001c04f0-5a94-4ee0-bf5d-3591265256de         NaN         NaN   \n",
              "\n",
              "   n_searches  n_nights  n_guests_min  n_guests_max origin_country  \\\n",
              "0          16       3.0             2             2             IE   \n",
              "1           3      10.0             1             2             IE   \n",
              "2           1       NaN             1             1             GB   \n",
              "3          11       2.0             1             2             GB   \n",
              "4           1       NaN             1             1             IE   \n",
              "\n",
              "   filter_price_min  filter_price_max  \\\n",
              "0               0.0              67.0   \n",
              "1               0.0              67.0   \n",
              "2               NaN               NaN   \n",
              "3               NaN               NaN   \n",
              "4               NaN               NaN   \n",
              "\n",
              "                                   filter_room_types filter_neighborhoods  \n",
              "0  ,Entire home/apt,Entire home/apt,Private room,...                  NaN  \n",
              "1                                                NaN                  NaN  \n",
              "2                                                NaN                  NaN  \n",
              "3                                   ,Entire home/apt                  NaN  \n",
              "4                                                NaN                  NaN  "
            ],
            "text/html": [
              "\n",
              "  <div id=\"df-3184f26c-3942-4059-9c34-05d22e14bca2\">\n",
              "    <div class=\"colab-df-container\">\n",
              "      <div>\n",
              "<style scoped>\n",
              "    .dataframe tbody tr th:only-of-type {\n",
              "        vertical-align: middle;\n",
              "    }\n",
              "\n",
              "    .dataframe tbody tr th {\n",
              "        vertical-align: top;\n",
              "    }\n",
              "\n",
              "    .dataframe thead th {\n",
              "        text-align: right;\n",
              "    }\n",
              "</style>\n",
              "<table border=\"1\" class=\"dataframe\">\n",
              "  <thead>\n",
              "    <tr style=\"text-align: right;\">\n",
              "      <th></th>\n",
              "      <th>ds</th>\n",
              "      <th>id_user</th>\n",
              "      <th>ds_checkin</th>\n",
              "      <th>ds_checkout</th>\n",
              "      <th>n_searches</th>\n",
              "      <th>n_nights</th>\n",
              "      <th>n_guests_min</th>\n",
              "      <th>n_guests_max</th>\n",
              "      <th>origin_country</th>\n",
              "      <th>filter_price_min</th>\n",
              "      <th>filter_price_max</th>\n",
              "      <th>filter_room_types</th>\n",
              "      <th>filter_neighborhoods</th>\n",
              "    </tr>\n",
              "  </thead>\n",
              "  <tbody>\n",
              "    <tr>\n",
              "      <th>0</th>\n",
              "      <td>2014-10-01</td>\n",
              "      <td>0000af0a-6f26-4233-9832-27efbfb36148</td>\n",
              "      <td>2014-10-09</td>\n",
              "      <td>2014-10-12</td>\n",
              "      <td>16</td>\n",
              "      <td>3.0</td>\n",
              "      <td>2</td>\n",
              "      <td>2</td>\n",
              "      <td>IE</td>\n",
              "      <td>0.0</td>\n",
              "      <td>67.0</td>\n",
              "      <td>,Entire home/apt,Entire home/apt,Private room,...</td>\n",
              "      <td>NaN</td>\n",
              "    </tr>\n",
              "    <tr>\n",
              "      <th>1</th>\n",
              "      <td>2014-10-01</td>\n",
              "      <td>0000af0a-6f26-4233-9832-27efbfb36148</td>\n",
              "      <td>2014-10-09</td>\n",
              "      <td>2014-10-19</td>\n",
              "      <td>3</td>\n",
              "      <td>10.0</td>\n",
              "      <td>1</td>\n",
              "      <td>2</td>\n",
              "      <td>IE</td>\n",
              "      <td>0.0</td>\n",
              "      <td>67.0</td>\n",
              "      <td>NaN</td>\n",
              "      <td>NaN</td>\n",
              "    </tr>\n",
              "    <tr>\n",
              "      <th>2</th>\n",
              "      <td>2014-10-01</td>\n",
              "      <td>000cd9d3-e05b-4016-9e09-34a6f8ba2fc5</td>\n",
              "      <td>NaN</td>\n",
              "      <td>NaN</td>\n",
              "      <td>1</td>\n",
              "      <td>NaN</td>\n",
              "      <td>1</td>\n",
              "      <td>1</td>\n",
              "      <td>GB</td>\n",
              "      <td>NaN</td>\n",
              "      <td>NaN</td>\n",
              "      <td>NaN</td>\n",
              "      <td>NaN</td>\n",
              "    </tr>\n",
              "    <tr>\n",
              "      <th>3</th>\n",
              "      <td>2014-10-01</td>\n",
              "      <td>000cd9d3-e05b-4016-9e09-34a6f8ba2fc5</td>\n",
              "      <td>2014-11-08</td>\n",
              "      <td>2014-11-10</td>\n",
              "      <td>11</td>\n",
              "      <td>2.0</td>\n",
              "      <td>1</td>\n",
              "      <td>2</td>\n",
              "      <td>GB</td>\n",
              "      <td>NaN</td>\n",
              "      <td>NaN</td>\n",
              "      <td>,Entire home/apt</td>\n",
              "      <td>NaN</td>\n",
              "    </tr>\n",
              "    <tr>\n",
              "      <th>4</th>\n",
              "      <td>2014-10-01</td>\n",
              "      <td>001c04f0-5a94-4ee0-bf5d-3591265256de</td>\n",
              "      <td>NaN</td>\n",
              "      <td>NaN</td>\n",
              "      <td>1</td>\n",
              "      <td>NaN</td>\n",
              "      <td>1</td>\n",
              "      <td>1</td>\n",
              "      <td>IE</td>\n",
              "      <td>NaN</td>\n",
              "      <td>NaN</td>\n",
              "      <td>NaN</td>\n",
              "      <td>NaN</td>\n",
              "    </tr>\n",
              "  </tbody>\n",
              "</table>\n",
              "</div>\n",
              "      <button class=\"colab-df-convert\" onclick=\"convertToInteractive('df-3184f26c-3942-4059-9c34-05d22e14bca2')\"\n",
              "              title=\"Convert this dataframe to an interactive table.\"\n",
              "              style=\"display:none;\">\n",
              "        \n",
              "  <svg xmlns=\"http://www.w3.org/2000/svg\" height=\"24px\"viewBox=\"0 0 24 24\"\n",
              "       width=\"24px\">\n",
              "    <path d=\"M0 0h24v24H0V0z\" fill=\"none\"/>\n",
              "    <path d=\"M18.56 5.44l.94 2.06.94-2.06 2.06-.94-2.06-.94-.94-2.06-.94 2.06-2.06.94zm-11 1L8.5 8.5l.94-2.06 2.06-.94-2.06-.94L8.5 2.5l-.94 2.06-2.06.94zm10 10l.94 2.06.94-2.06 2.06-.94-2.06-.94-.94-2.06-.94 2.06-2.06.94z\"/><path d=\"M17.41 7.96l-1.37-1.37c-.4-.4-.92-.59-1.43-.59-.52 0-1.04.2-1.43.59L10.3 9.45l-7.72 7.72c-.78.78-.78 2.05 0 2.83L4 21.41c.39.39.9.59 1.41.59.51 0 1.02-.2 1.41-.59l7.78-7.78 2.81-2.81c.8-.78.8-2.07 0-2.86zM5.41 20L4 18.59l7.72-7.72 1.47 1.35L5.41 20z\"/>\n",
              "  </svg>\n",
              "      </button>\n",
              "      \n",
              "  <style>\n",
              "    .colab-df-container {\n",
              "      display:flex;\n",
              "      flex-wrap:wrap;\n",
              "      gap: 12px;\n",
              "    }\n",
              "\n",
              "    .colab-df-convert {\n",
              "      background-color: #E8F0FE;\n",
              "      border: none;\n",
              "      border-radius: 50%;\n",
              "      cursor: pointer;\n",
              "      display: none;\n",
              "      fill: #1967D2;\n",
              "      height: 32px;\n",
              "      padding: 0 0 0 0;\n",
              "      width: 32px;\n",
              "    }\n",
              "\n",
              "    .colab-df-convert:hover {\n",
              "      background-color: #E2EBFA;\n",
              "      box-shadow: 0px 1px 2px rgba(60, 64, 67, 0.3), 0px 1px 3px 1px rgba(60, 64, 67, 0.15);\n",
              "      fill: #174EA6;\n",
              "    }\n",
              "\n",
              "    [theme=dark] .colab-df-convert {\n",
              "      background-color: #3B4455;\n",
              "      fill: #D2E3FC;\n",
              "    }\n",
              "\n",
              "    [theme=dark] .colab-df-convert:hover {\n",
              "      background-color: #434B5C;\n",
              "      box-shadow: 0px 1px 3px 1px rgba(0, 0, 0, 0.15);\n",
              "      filter: drop-shadow(0px 1px 2px rgba(0, 0, 0, 0.3));\n",
              "      fill: #FFFFFF;\n",
              "    }\n",
              "  </style>\n",
              "\n",
              "      <script>\n",
              "        const buttonEl =\n",
              "          document.querySelector('#df-3184f26c-3942-4059-9c34-05d22e14bca2 button.colab-df-convert');\n",
              "        buttonEl.style.display =\n",
              "          google.colab.kernel.accessAllowed ? 'block' : 'none';\n",
              "\n",
              "        async function convertToInteractive(key) {\n",
              "          const element = document.querySelector('#df-3184f26c-3942-4059-9c34-05d22e14bca2');\n",
              "          const dataTable =\n",
              "            await google.colab.kernel.invokeFunction('convertToInteractive',\n",
              "                                                     [key], {});\n",
              "          if (!dataTable) return;\n",
              "\n",
              "          const docLinkHtml = 'Like what you see? Visit the ' +\n",
              "            '<a target=\"_blank\" href=https://colab.research.google.com/notebooks/data_table.ipynb>data table notebook</a>'\n",
              "            + ' to learn more about interactive tables.';\n",
              "          element.innerHTML = '';\n",
              "          dataTable['output_type'] = 'display_data';\n",
              "          await google.colab.output.renderOutput(dataTable, element);\n",
              "          const docLink = document.createElement('div');\n",
              "          docLink.innerHTML = docLinkHtml;\n",
              "          element.appendChild(docLink);\n",
              "        }\n",
              "      </script>\n",
              "    </div>\n",
              "  </div>\n",
              "  "
            ]
          },
          "metadata": {},
          "execution_count": 13
        }
      ]
    },
    {
      "cell_type": "code",
      "source": [
        "#Find % of null values in datasets \n",
        "print('Contacts')\n",
        "print(df_contacts.isna().sum()/len(df_contacts), '\\n')\n",
        "print('Searches')\n",
        "print(df_searches.isna().sum()/len(df_searches))"
      ],
      "metadata": {
        "colab": {
          "base_uri": "https://localhost:8080/"
        },
        "id": "5I6qVUoNlxjK",
        "outputId": "eb1847aa-9dff-4a8c-eca2-c3dd22dbafb8"
      },
      "execution_count": 14,
      "outputs": [
        {
          "output_type": "stream",
          "name": "stdout",
          "text": [
            "Contacts\n",
            "id_guest          0.000000\n",
            "id_host           0.000000\n",
            "id_listing        0.000000\n",
            "ts_contact_at     0.000000\n",
            "ts_reply_at       0.077208\n",
            "ts_accepted_at    0.536367\n",
            "ts_booking_at     0.722101\n",
            "ds_checkin        0.000000\n",
            "ds_checkout       0.000000\n",
            "n_guests          0.000000\n",
            "n_messages        0.000000\n",
            "dtype: float64 \n",
            "\n",
            "Searches\n",
            "ds                      0.000000\n",
            "id_user                 0.000000\n",
            "ds_checkin              0.331561\n",
            "ds_checkout             0.331561\n",
            "n_searches              0.000000\n",
            "n_nights                0.331561\n",
            "n_guests_min            0.000000\n",
            "n_guests_max            0.000000\n",
            "origin_country          0.000000\n",
            "filter_price_min        0.627221\n",
            "filter_price_max        0.627221\n",
            "filter_room_types       0.546940\n",
            "filter_neighborhoods    0.962336\n",
            "dtype: float64\n"
          ]
        }
      ]
    },
    {
      "cell_type": "markdown",
      "source": [
        "The neighborhood column in searches has 96.2336% of null values. This could lead to inaccurate assumptions about the demand from people. When looking through the column, 'City Centre' was a common choice, so this should be investigated further with more data."
      ],
      "metadata": {
        "id": "5SCnuJRDolpZ"
      }
    },
    {
      "cell_type": "markdown",
      "source": [
        "**searches Dataset**"
      ],
      "metadata": {
        "id": "Z4GU9RnAos31"
      }
    },
    {
      "cell_type": "code",
      "source": [
        "#Drop filter_neighborhoods column\n",
        "\n",
        "df_searches = df_searches.drop(columns=['filter_neighborhoods'])"
      ],
      "metadata": {
        "id": "XN9VSkWQlxlg"
      },
      "execution_count": 15,
      "outputs": []
    },
    {
      "cell_type": "code",
      "source": [
        "#Manipulation of searches dataset\n",
        "\n",
        "#Convert date column to datetime data type for easier analysis\n",
        "df_searches['ds'] = pd.to_datetime(df_searches['ds'])\n",
        "df_searches['ds_checkin'] = pd.to_datetime(df_searches['ds_checkin'])\n",
        "df_searches['ds_checkout'] = pd.to_datetime(df_searches['ds_checkout'])\n",
        "\n",
        "#How soon they want the room\n",
        "df_searches['length_preperation'] = df_searches['ds_checkin'] - df_searches['ds']"
      ],
      "metadata": {
        "id": "66fMxuMblxoX"
      },
      "execution_count": 16,
      "outputs": []
    },
    {
      "cell_type": "code",
      "source": [
        "#Describe searches dataset\n",
        "\n",
        "#Helps understand the dataset and its distribution of values within columns better\n",
        "display(df_searches.describe())"
      ],
      "metadata": {
        "colab": {
          "base_uri": "https://localhost:8080/",
          "height": 300
        },
        "id": "LEVQMsx-lxrB",
        "outputId": "2f44c185-50c5-45d1-e39b-7d2bd14bee69"
      },
      "execution_count": 17,
      "outputs": [
        {
          "output_type": "display_data",
          "data": {
            "text/plain": [
              "         n_searches      n_nights  n_guests_min  n_guests_max  \\\n",
              "count  35737.000000  23888.000000  35737.000000  35737.000000   \n",
              "mean       9.206565      7.672765      1.742955      2.105857   \n",
              "std       17.348746     21.557614      1.460440      1.817358   \n",
              "min        1.000000      0.000000      1.000000      1.000000   \n",
              "25%        1.000000      2.000000      1.000000      1.000000   \n",
              "50%        4.000000      3.000000      1.000000      2.000000   \n",
              "75%       10.000000      5.000000      2.000000      2.000000   \n",
              "max      448.000000    399.000000     16.000000     16.000000   \n",
              "\n",
              "       filter_price_min  filter_price_max          length_preperation  \n",
              "count      13322.000000      1.332200e+04                       23888  \n",
              "mean           8.470200      9.019063e+07  51 days 08:11:53.730743469  \n",
              "std           53.987679      2.978482e+08  65 days 18:56:19.491940518  \n",
              "min            0.000000      9.000000e+00           -1 days +00:00:00  \n",
              "25%            0.000000      8.600000e+01            10 days 00:00:00  \n",
              "50%            0.000000      1.390000e+02            26 days 00:00:00  \n",
              "75%            0.000000      3.010000e+02            67 days 00:00:00  \n",
              "max         1250.000000      1.073742e+09           604 days 00:00:00  "
            ],
            "text/html": [
              "\n",
              "  <div id=\"df-f4a3ebed-fece-4534-a884-c8e9700cdde3\">\n",
              "    <div class=\"colab-df-container\">\n",
              "      <div>\n",
              "<style scoped>\n",
              "    .dataframe tbody tr th:only-of-type {\n",
              "        vertical-align: middle;\n",
              "    }\n",
              "\n",
              "    .dataframe tbody tr th {\n",
              "        vertical-align: top;\n",
              "    }\n",
              "\n",
              "    .dataframe thead th {\n",
              "        text-align: right;\n",
              "    }\n",
              "</style>\n",
              "<table border=\"1\" class=\"dataframe\">\n",
              "  <thead>\n",
              "    <tr style=\"text-align: right;\">\n",
              "      <th></th>\n",
              "      <th>n_searches</th>\n",
              "      <th>n_nights</th>\n",
              "      <th>n_guests_min</th>\n",
              "      <th>n_guests_max</th>\n",
              "      <th>filter_price_min</th>\n",
              "      <th>filter_price_max</th>\n",
              "      <th>length_preperation</th>\n",
              "    </tr>\n",
              "  </thead>\n",
              "  <tbody>\n",
              "    <tr>\n",
              "      <th>count</th>\n",
              "      <td>35737.000000</td>\n",
              "      <td>23888.000000</td>\n",
              "      <td>35737.000000</td>\n",
              "      <td>35737.000000</td>\n",
              "      <td>13322.000000</td>\n",
              "      <td>1.332200e+04</td>\n",
              "      <td>23888</td>\n",
              "    </tr>\n",
              "    <tr>\n",
              "      <th>mean</th>\n",
              "      <td>9.206565</td>\n",
              "      <td>7.672765</td>\n",
              "      <td>1.742955</td>\n",
              "      <td>2.105857</td>\n",
              "      <td>8.470200</td>\n",
              "      <td>9.019063e+07</td>\n",
              "      <td>51 days 08:11:53.730743469</td>\n",
              "    </tr>\n",
              "    <tr>\n",
              "      <th>std</th>\n",
              "      <td>17.348746</td>\n",
              "      <td>21.557614</td>\n",
              "      <td>1.460440</td>\n",
              "      <td>1.817358</td>\n",
              "      <td>53.987679</td>\n",
              "      <td>2.978482e+08</td>\n",
              "      <td>65 days 18:56:19.491940518</td>\n",
              "    </tr>\n",
              "    <tr>\n",
              "      <th>min</th>\n",
              "      <td>1.000000</td>\n",
              "      <td>0.000000</td>\n",
              "      <td>1.000000</td>\n",
              "      <td>1.000000</td>\n",
              "      <td>0.000000</td>\n",
              "      <td>9.000000e+00</td>\n",
              "      <td>-1 days +00:00:00</td>\n",
              "    </tr>\n",
              "    <tr>\n",
              "      <th>25%</th>\n",
              "      <td>1.000000</td>\n",
              "      <td>2.000000</td>\n",
              "      <td>1.000000</td>\n",
              "      <td>1.000000</td>\n",
              "      <td>0.000000</td>\n",
              "      <td>8.600000e+01</td>\n",
              "      <td>10 days 00:00:00</td>\n",
              "    </tr>\n",
              "    <tr>\n",
              "      <th>50%</th>\n",
              "      <td>4.000000</td>\n",
              "      <td>3.000000</td>\n",
              "      <td>1.000000</td>\n",
              "      <td>2.000000</td>\n",
              "      <td>0.000000</td>\n",
              "      <td>1.390000e+02</td>\n",
              "      <td>26 days 00:00:00</td>\n",
              "    </tr>\n",
              "    <tr>\n",
              "      <th>75%</th>\n",
              "      <td>10.000000</td>\n",
              "      <td>5.000000</td>\n",
              "      <td>2.000000</td>\n",
              "      <td>2.000000</td>\n",
              "      <td>0.000000</td>\n",
              "      <td>3.010000e+02</td>\n",
              "      <td>67 days 00:00:00</td>\n",
              "    </tr>\n",
              "    <tr>\n",
              "      <th>max</th>\n",
              "      <td>448.000000</td>\n",
              "      <td>399.000000</td>\n",
              "      <td>16.000000</td>\n",
              "      <td>16.000000</td>\n",
              "      <td>1250.000000</td>\n",
              "      <td>1.073742e+09</td>\n",
              "      <td>604 days 00:00:00</td>\n",
              "    </tr>\n",
              "  </tbody>\n",
              "</table>\n",
              "</div>\n",
              "      <button class=\"colab-df-convert\" onclick=\"convertToInteractive('df-f4a3ebed-fece-4534-a884-c8e9700cdde3')\"\n",
              "              title=\"Convert this dataframe to an interactive table.\"\n",
              "              style=\"display:none;\">\n",
              "        \n",
              "  <svg xmlns=\"http://www.w3.org/2000/svg\" height=\"24px\"viewBox=\"0 0 24 24\"\n",
              "       width=\"24px\">\n",
              "    <path d=\"M0 0h24v24H0V0z\" fill=\"none\"/>\n",
              "    <path d=\"M18.56 5.44l.94 2.06.94-2.06 2.06-.94-2.06-.94-.94-2.06-.94 2.06-2.06.94zm-11 1L8.5 8.5l.94-2.06 2.06-.94-2.06-.94L8.5 2.5l-.94 2.06-2.06.94zm10 10l.94 2.06.94-2.06 2.06-.94-2.06-.94-.94-2.06-.94 2.06-2.06.94z\"/><path d=\"M17.41 7.96l-1.37-1.37c-.4-.4-.92-.59-1.43-.59-.52 0-1.04.2-1.43.59L10.3 9.45l-7.72 7.72c-.78.78-.78 2.05 0 2.83L4 21.41c.39.39.9.59 1.41.59.51 0 1.02-.2 1.41-.59l7.78-7.78 2.81-2.81c.8-.78.8-2.07 0-2.86zM5.41 20L4 18.59l7.72-7.72 1.47 1.35L5.41 20z\"/>\n",
              "  </svg>\n",
              "      </button>\n",
              "      \n",
              "  <style>\n",
              "    .colab-df-container {\n",
              "      display:flex;\n",
              "      flex-wrap:wrap;\n",
              "      gap: 12px;\n",
              "    }\n",
              "\n",
              "    .colab-df-convert {\n",
              "      background-color: #E8F0FE;\n",
              "      border: none;\n",
              "      border-radius: 50%;\n",
              "      cursor: pointer;\n",
              "      display: none;\n",
              "      fill: #1967D2;\n",
              "      height: 32px;\n",
              "      padding: 0 0 0 0;\n",
              "      width: 32px;\n",
              "    }\n",
              "\n",
              "    .colab-df-convert:hover {\n",
              "      background-color: #E2EBFA;\n",
              "      box-shadow: 0px 1px 2px rgba(60, 64, 67, 0.3), 0px 1px 3px 1px rgba(60, 64, 67, 0.15);\n",
              "      fill: #174EA6;\n",
              "    }\n",
              "\n",
              "    [theme=dark] .colab-df-convert {\n",
              "      background-color: #3B4455;\n",
              "      fill: #D2E3FC;\n",
              "    }\n",
              "\n",
              "    [theme=dark] .colab-df-convert:hover {\n",
              "      background-color: #434B5C;\n",
              "      box-shadow: 0px 1px 3px 1px rgba(0, 0, 0, 0.15);\n",
              "      filter: drop-shadow(0px 1px 2px rgba(0, 0, 0, 0.3));\n",
              "      fill: #FFFFFF;\n",
              "    }\n",
              "  </style>\n",
              "\n",
              "      <script>\n",
              "        const buttonEl =\n",
              "          document.querySelector('#df-f4a3ebed-fece-4534-a884-c8e9700cdde3 button.colab-df-convert');\n",
              "        buttonEl.style.display =\n",
              "          google.colab.kernel.accessAllowed ? 'block' : 'none';\n",
              "\n",
              "        async function convertToInteractive(key) {\n",
              "          const element = document.querySelector('#df-f4a3ebed-fece-4534-a884-c8e9700cdde3');\n",
              "          const dataTable =\n",
              "            await google.colab.kernel.invokeFunction('convertToInteractive',\n",
              "                                                     [key], {});\n",
              "          if (!dataTable) return;\n",
              "\n",
              "          const docLinkHtml = 'Like what you see? Visit the ' +\n",
              "            '<a target=\"_blank\" href=https://colab.research.google.com/notebooks/data_table.ipynb>data table notebook</a>'\n",
              "            + ' to learn more about interactive tables.';\n",
              "          element.innerHTML = '';\n",
              "          dataTable['output_type'] = 'display_data';\n",
              "          await google.colab.output.renderOutput(dataTable, element);\n",
              "          const docLink = document.createElement('div');\n",
              "          docLink.innerHTML = docLinkHtml;\n",
              "          element.appendChild(docLink);\n",
              "        }\n",
              "      </script>\n",
              "    </div>\n",
              "  </div>\n",
              "  "
            ]
          },
          "metadata": {}
        }
      ]
    },
    {
      "cell_type": "markdown",
      "source": [
        "This shows that the number of guests is usually 1 or 2. This can be understood since even at 75% the n_guests_min and n_guests_max are 2 and at 25% is 1. Leads to believe that smaller accommodations are preferred."
      ],
      "metadata": {
        "id": "Eqz2QV65k7eY"
      }
    },
    {
      "cell_type": "code",
      "source": [
        "#Calculate skewness in searches dataset\n",
        "\n",
        "display(display(df_searches.skew(axis = 0, numeric_only = True, skipna = True))\n",
        ".skew(axis = 0, numeric_only = True, skipna = True))"
      ],
      "metadata": {
        "colab": {
          "base_uri": "https://localhost:8080/",
          "height": 339
        },
        "id": "T7VlCtp1pPOH",
        "outputId": "4ac34414-585e-43e3-f4f6-e9debec46ef5"
      },
      "execution_count": 18,
      "outputs": [
        {
          "output_type": "display_data",
          "data": {
            "text/plain": [
              "n_searches           7.509258\n",
              "n_nights             9.942364\n",
              "n_guests_min         3.583798\n",
              "n_guests_max         3.148548\n",
              "filter_price_min    11.087745\n",
              "filter_price_max     2.999833\n",
              "dtype: float64"
            ]
          },
          "metadata": {}
        },
        {
          "output_type": "error",
          "ename": "AttributeError",
          "evalue": "ignored",
          "traceback": [
            "\u001b[0;31m---------------------------------------------------------------------------\u001b[0m",
            "\u001b[0;31mAttributeError\u001b[0m                            Traceback (most recent call last)",
            "\u001b[0;32m<ipython-input-18-a5b0ade2bbb1>\u001b[0m in \u001b[0;36m<module>\u001b[0;34m\u001b[0m\n\u001b[1;32m      1\u001b[0m \u001b[0;31m#Calculate skewness in searches dataset\u001b[0m\u001b[0;34m\u001b[0m\u001b[0;34m\u001b[0m\u001b[0;34m\u001b[0m\u001b[0m\n\u001b[1;32m      2\u001b[0m \u001b[0;34m\u001b[0m\u001b[0m\n\u001b[0;32m----> 3\u001b[0;31m display(display(df_searches.skew(axis = 0, numeric_only = True, skipna = True))\n\u001b[0m\u001b[1;32m      4\u001b[0m .skew(axis = 0, numeric_only = True, skipna = True))\n",
            "\u001b[0;31mAttributeError\u001b[0m: 'NoneType' object has no attribute 'skew'"
          ]
        }
      ]
    },
    {
      "cell_type": "markdown",
      "source": [
        "All numeric columns have a Fisher-Pearson coefficient value greater than 1. This results in a positive skewness. With more time, I would have used a transformation method such as log transformation to reduce the skewness"
      ],
      "metadata": {
        "id": "nbbbits5pfTb"
      }
    },
    {
      "cell_type": "markdown",
      "source": [
        "Distributions"
      ],
      "metadata": {
        "id": "0L9q8a9DpiTD"
      }
    },
    {
      "cell_type": "code",
      "source": [
        "#Distribution plot of n_guests_min and n_guests_max\n",
        "sns.displot(df_searches, x = 'n_guests_min', color = 'brown')\n",
        "sns.displot(df_searches, x = 'n_guests_max', color = 'black')\n",
        "plt.show()"
      ],
      "metadata": {
        "colab": {
          "base_uri": "https://localhost:8080/",
          "height": 721
        },
        "id": "-O0B3roHpQFz",
        "outputId": "4193fbe7-4bfb-4561-e14d-092a0946fbd8"
      },
      "execution_count": 19,
      "outputs": [
        {
          "output_type": "display_data",
          "data": {
            "text/plain": [
              "<Figure size 360x360 with 1 Axes>"
            ],
            "image/png": "[encoded data removed]"
          },
          "metadata": {
            "needs_background": "light"
          }
        },
        {
          "output_type": "display_data",
          "data": {
            "text/plain": [
              "<Figure size 360x360 with 1 Axes>"
            ],
            "image/png": "[encoded data removed]"
          },
          "metadata": {
            "needs_background": "light"
          }
        }
      ]
    },
    {
      "cell_type": "markdown",
      "source": [
        "Both have similar distributions with 1 being the most popular option and 2 being the next popular option"
      ],
      "metadata": {
        "id": "3oeHoq3qpzJH"
      }
    },
    {
      "cell_type": "code",
      "source": [
        "#When were searches conducted\n",
        "\n",
        "ax = sns.displot(df_searches, x = 'ds', color = 'brown')\n",
        "[plt.setp(ax.get_xticklabels(), rotation=90) for ax in ax.axes.flat]"
      ],
      "metadata": {
        "colab": {
          "base_uri": "https://localhost:8080/",
          "height": 660
        },
        "id": "lb6zT6sVpQJa",
        "outputId": "820770d2-7dd3-46f2-d03b-a90bfcef7d84"
      },
      "execution_count": 20,
      "outputs": [
        {
          "output_type": "execute_result",
          "data": {
            "text/plain": [
              "[[None,\n",
              "  None,\n",
              "  None,\n",
              "  None,\n",
              "  None,\n",
              "  None,\n",
              "  None,\n",
              "  None,\n",
              "  None,\n",
              "  None,\n",
              "  None,\n",
              "  None,\n",
              "  None,\n",
              "  None]]"
            ]
          },
          "metadata": {},
          "execution_count": 20
        },
        {
          "output_type": "display_data",
          "data": {
            "text/plain": [
              "<Figure size 360x360 with 1 Axes>"
            ],
            "image/png": "[encoded data removed]"
          },
          "metadata": {
            "needs_background": "light"
          }
        }
      ]
    },
    {
      "cell_type": "markdown",
      "source": [
        "Noticed all date searches were between October 1st to October 14th. No major variation in when search was conducted between these dates"
      ],
      "metadata": {
        "id": "TEQ1puH2qIy6"
      }
    },
    {
      "cell_type": "code",
      "source": [
        "#Percentage of dataset with a filter_price_max above 600\n",
        "\n",
        "print(len(df_searches[df_searches['filter_price_max'] > 600])/len(df_searches['filter_price_max'])*100, '%')"
      ],
      "metadata": {
        "colab": {
          "base_uri": "https://localhost:8080/"
        },
        "id": "dCtxQesWpQM1",
        "outputId": "ca2e4981-47c9-4903-a059-1482e75b782d"
      },
      "execution_count": 21,
      "outputs": [
        {
          "output_type": "stream",
          "name": "stdout",
          "text": [
            "5.311022189887232 %\n"
          ]
        }
      ]
    },
    {
      "cell_type": "code",
      "source": [
        "#Distribution of filter_price_max of searches\n",
        "\n",
        "#Removing the set upper limit\n",
        "searches_maxprice_removed = df_searches[df_searches['filter_price_max'] <= 600]\n",
        "\n",
        "#Distribution plot of filter_price_max column\n",
        "sns.displot(x=searches_maxprice_removed[\"filter_price_max\"], color = 'blue')\n",
        "plt.show()"
      ],
      "metadata": {
        "colab": {
          "base_uri": "https://localhost:8080/",
          "height": 369
        },
        "id": "mQuVClsSpQQB",
        "outputId": "284d720d-bdc5-442d-b66f-5be86e8a3e70"
      },
      "execution_count": 22,
      "outputs": [
        {
          "output_type": "display_data",
          "data": {
            "text/plain": [
              "<Figure size 360x360 with 1 Axes>"
            ],
            "image/png": "[encoded data removed]"
          },
          "metadata": {
            "needs_background": "light"
          }
        }
      ]
    },
    {
      "cell_type": "markdown",
      "source": [
        "Filter_price_max was chosen instead of filter_price_min due to the min usually being set at $0\n",
        "\n",
        "To further help better visualize the trend we set the filter price max as less or equal to 600. 600 was chosen as the limit since only 14.25% of the dataset has values greater than 600"
      ],
      "metadata": {
        "id": "2BZT3udoqmkd"
      }
    },
    {
      "cell_type": "code",
      "source": [
        "#Distribution of length_preperation of searches\n",
        "\n",
        "#Percentage of dataset beyond 100 days\n",
        "distribution = df_searches[\"length_preperation\"] / np.timedelta64(1, 'D')\n",
        "print(len(distribution[distribution > 100])/len(distribution)*100, '% \\n')\n",
        "\n",
        "#Remove values beyond 100 days\n",
        "distribution = distribution[distribution < 100]\n",
        "\n",
        "#Distribution plot of length_preperation column\n",
        "sns.displot(x=distribution, color = 'green')\n",
        "plt.show()"
      ],
      "metadata": {
        "colab": {
          "base_uri": "https://localhost:8080/",
          "height": 404
        },
        "id": "-kaAzi1epQWt",
        "outputId": "3651b0d2-30fe-4aad-956d-00ea1a37b827"
      },
      "execution_count": 23,
      "outputs": [
        {
          "output_type": "stream",
          "name": "stdout",
          "text": [
            "9.396423874415872 % \n",
            "\n"
          ]
        },
        {
          "output_type": "display_data",
          "data": {
            "text/plain": [
              "<Figure size 360x360 with 1 Axes>"
            ],
            "image/png": "[encoded data removed]"
          },
          "metadata": {
            "needs_background": "light"
          }
        }
      ]
    },
    {
      "cell_type": "markdown",
      "source": [
        "100 days was chosen as the limit since only 14.06% of the dataset exists beyond that"
      ],
      "metadata": {
        "id": "HJc1ozVOrB8t"
      }
    },
    {
      "cell_type": "code",
      "source": [
        "#Distribution of n_nights of searches\n",
        "\n",
        "#Percentage of dataset beyond 20 nights\n",
        "print(len(df_searches[df_searches['n_nights'] > 20])/len(df_searches['n_nights'])*100, '% \\n')\n",
        "\n",
        "#Remove n_nights beyond 20 days\n",
        "searches_within_twenty = df_searches[df_searches['n_nights'] < 20]\n",
        "\n",
        "#Distribution plot of length_preperation column\n",
        "sns.displot(searches_within_twenty, x='n_nights', color = 'red')\n",
        "plt.show()"
      ],
      "metadata": {
        "colab": {
          "base_uri": "https://localhost:8080/",
          "height": 404
        },
        "id": "Mj9SGZBgqwUp",
        "outputId": "7090aaec-da05-4516-95af-450f1ee204eb"
      },
      "execution_count": 24,
      "outputs": [
        {
          "output_type": "stream",
          "name": "stdout",
          "text": [
            "4.737387021854101 % \n",
            "\n"
          ]
        },
        {
          "output_type": "display_data",
          "data": {
            "text/plain": [
              "<Figure size 360x360 with 1 Axes>"
            ],
            "image/png": "[encoded data removed]"
          },
          "metadata": {
            "needs_background": "light"
          }
        }
      ]
    },
    {
      "cell_type": "markdown",
      "source": [
        "Removing n_nights beyond 20 days since only 7.3% of the dataset exists beyond 20 days"
      ],
      "metadata": {
        "id": "q74fByq7rO9b"
      }
    },
    {
      "cell_type": "code",
      "source": [
        "#Distribution of months of ds_checkin of searches\n",
        "\n",
        "checkin_month = pd.DatetimeIndex(df_searches['ds_checkin']).month\n",
        "\n",
        "#Distribution plot of length_preperation column\n",
        "sns.displot(checkin_month, color = 'yellow')\n",
        "plt.show()"
      ],
      "metadata": {
        "colab": {
          "base_uri": "https://localhost:8080/",
          "height": 369
        },
        "id": "wPXo5Uo3rJPP",
        "outputId": "b0d4da0b-56fe-497f-8de8-0b07c90dc2fe"
      },
      "execution_count": 25,
      "outputs": [
        {
          "output_type": "display_data",
          "data": {
            "text/plain": [
              "<Figure size 360x360 with 1 Axes>"
            ],
            "image/png": "[encoded data removed]"
          },
          "metadata": {
            "needs_background": "light"
          }
        }
      ]
    },
    {
      "cell_type": "markdown",
      "source": [
        "Used only the check-in month, cause checkout is usually within 5/6 days. The mean of n_nights after removing the upper outlier limit is 5.6, so assumed 5 or 6 days after the check-in date people usually checkout"
      ],
      "metadata": {
        "id": "0T5fnF4KrYGn"
      }
    },
    {
      "cell_type": "code",
      "source": [
        "#Types of rooms searched for\n",
        "\n",
        "df_searches['filter_room_types'].unique()[0:15] #Display first 15 unique values"
      ],
      "metadata": {
        "colab": {
          "base_uri": "https://localhost:8080/"
        },
        "id": "gMMcyKVCrMux",
        "outputId": "899dc808-34a2-44c3-fe04-156250b56032"
      },
      "execution_count": 26,
      "outputs": [
        {
          "output_type": "execute_result",
          "data": {
            "text/plain": [
              "array([',Entire home/apt,Entire home/apt,Private room,Private room', nan,\n",
              "       ',Entire home/apt',\n",
              "       'Entire home/apt,Entire home/apt,Private room,Private room',\n",
              "       'Entire home/apt', ',Shared room,Private room',\n",
              "       'Entire home/apt,Private room,Shared room,Private room,Shared room',\n",
              "       'Private room', 'Entire home/apt,Private room', ',Private room',\n",
              "       ',Entire home/apt,Private room',\n",
              "       ',Entire home/apt,Private room,Private room',\n",
              "       'Entire home/apt,Private room,Shared room',\n",
              "       ',Entire home/apt,Entire home/apt,Private room',\n",
              "       ',Entire home/apt,Entire home/apt,Shared room,Shared room'],\n",
              "      dtype=object)"
            ]
          },
          "metadata": {},
          "execution_count": 26
        }
      ]
    },
    {
      "cell_type": "markdown",
      "source": [
        "Most of the room types requested were entire home/apt and private rooms sometimes shared rooms. If given more time, I would have cleaned this column since most filter values are repeated within the same cell. On the Airbnb website, there are only 4 values in the type of place:\n",
        "\n",
        "Entire Place\n",
        "Private Room\n",
        "Hotel Room\n",
        "Shared Room\n",
        "So searching how often these 4 strings occur would be how I go about it"
      ],
      "metadata": {
        "id": "-upPKbw_rXoi"
      }
    },
    {
      "cell_type": "code",
      "source": [
        "#Find top 15 countries where searches originate from\n",
        "\n",
        "#Group by origin country and finding the count of each country\n",
        "search_origin = df_searches.groupby(\"origin_country\").agg({'origin_country' : 'count'})\n",
        "search_origin.columns = ['count']\n",
        "\n",
        "search_origin = search_origin.sort_values('count', ascending = False) #Sort count in descending order\n",
        "search_origin.nlargest(15, 'count') #Find the 15 largest values"
      ],
      "metadata": {
        "colab": {
          "base_uri": "https://localhost:8080/",
          "height": 551
        },
        "id": "8URi6nu6ri5V",
        "outputId": "a01e2fa4-429b-435f-c1d6-a48b1bb8e082"
      },
      "execution_count": 27,
      "outputs": [
        {
          "output_type": "execute_result",
          "data": {
            "text/plain": [
              "                count\n",
              "origin_country       \n",
              "IE               6608\n",
              "US               5811\n",
              "GB               4832\n",
              "FR               3444\n",
              "IT               2333\n",
              "DE               2170\n",
              "ES               1759\n",
              "CA               1085\n",
              "AU                962\n",
              "NL                843\n",
              "BR                636\n",
              "CH                535\n",
              "BE                386\n",
              "AT                320\n",
              "RU                274"
            ],
            "text/html": [
              "\n",
              "  <div id=\"df-4bae411e-7f1b-472d-ab8e-1111cdbb494f\">\n",
              "    <div class=\"colab-df-container\">\n",
              "      <div>\n",
              "<style scoped>\n",
              "    .dataframe tbody tr th:only-of-type {\n",
              "        vertical-align: middle;\n",
              "    }\n",
              "\n",
              "    .dataframe tbody tr th {\n",
              "        vertical-align: top;\n",
              "    }\n",
              "\n",
              "    .dataframe thead th {\n",
              "        text-align: right;\n",
              "    }\n",
              "</style>\n",
              "<table border=\"1\" class=\"dataframe\">\n",
              "  <thead>\n",
              "    <tr style=\"text-align: right;\">\n",
              "      <th></th>\n",
              "      <th>count</th>\n",
              "    </tr>\n",
              "    <tr>\n",
              "      <th>origin_country</th>\n",
              "      <th></th>\n",
              "    </tr>\n",
              "  </thead>\n",
              "  <tbody>\n",
              "    <tr>\n",
              "      <th>IE</th>\n",
              "      <td>6608</td>\n",
              "    </tr>\n",
              "    <tr>\n",
              "      <th>US</th>\n",
              "      <td>5811</td>\n",
              "    </tr>\n",
              "    <tr>\n",
              "      <th>GB</th>\n",
              "      <td>4832</td>\n",
              "    </tr>\n",
              "    <tr>\n",
              "      <th>FR</th>\n",
              "      <td>3444</td>\n",
              "    </tr>\n",
              "    <tr>\n",
              "      <th>IT</th>\n",
              "      <td>2333</td>\n",
              "    </tr>\n",
              "    <tr>\n",
              "      <th>DE</th>\n",
              "      <td>2170</td>\n",
              "    </tr>\n",
              "    <tr>\n",
              "      <th>ES</th>\n",
              "      <td>1759</td>\n",
              "    </tr>\n",
              "    <tr>\n",
              "      <th>CA</th>\n",
              "      <td>1085</td>\n",
              "    </tr>\n",
              "    <tr>\n",
              "      <th>AU</th>\n",
              "      <td>962</td>\n",
              "    </tr>\n",
              "    <tr>\n",
              "      <th>NL</th>\n",
              "      <td>843</td>\n",
              "    </tr>\n",
              "    <tr>\n",
              "      <th>BR</th>\n",
              "      <td>636</td>\n",
              "    </tr>\n",
              "    <tr>\n",
              "      <th>CH</th>\n",
              "      <td>535</td>\n",
              "    </tr>\n",
              "    <tr>\n",
              "      <th>BE</th>\n",
              "      <td>386</td>\n",
              "    </tr>\n",
              "    <tr>\n",
              "      <th>AT</th>\n",
              "      <td>320</td>\n",
              "    </tr>\n",
              "    <tr>\n",
              "      <th>RU</th>\n",
              "      <td>274</td>\n",
              "    </tr>\n",
              "  </tbody>\n",
              "</table>\n",
              "</div>\n",
              "      <button class=\"colab-df-convert\" onclick=\"convertToInteractive('df-4bae411e-7f1b-472d-ab8e-1111cdbb494f')\"\n",
              "              title=\"Convert this dataframe to an interactive table.\"\n",
              "              style=\"display:none;\">\n",
              "        \n",
              "  <svg xmlns=\"http://www.w3.org/2000/svg\" height=\"24px\"viewBox=\"0 0 24 24\"\n",
              "       width=\"24px\">\n",
              "    <path d=\"M0 0h24v24H0V0z\" fill=\"none\"/>\n",
              "    <path d=\"M18.56 5.44l.94 2.06.94-2.06 2.06-.94-2.06-.94-.94-2.06-.94 2.06-2.06.94zm-11 1L8.5 8.5l.94-2.06 2.06-.94-2.06-.94L8.5 2.5l-.94 2.06-2.06.94zm10 10l.94 2.06.94-2.06 2.06-.94-2.06-.94-.94-2.06-.94 2.06-2.06.94z\"/><path d=\"M17.41 7.96l-1.37-1.37c-.4-.4-.92-.59-1.43-.59-.52 0-1.04.2-1.43.59L10.3 9.45l-7.72 7.72c-.78.78-.78 2.05 0 2.83L4 21.41c.39.39.9.59 1.41.59.51 0 1.02-.2 1.41-.59l7.78-7.78 2.81-2.81c.8-.78.8-2.07 0-2.86zM5.41 20L4 18.59l7.72-7.72 1.47 1.35L5.41 20z\"/>\n",
              "  </svg>\n",
              "      </button>\n",
              "      \n",
              "  <style>\n",
              "    .colab-df-container {\n",
              "      display:flex;\n",
              "      flex-wrap:wrap;\n",
              "      gap: 12px;\n",
              "    }\n",
              "\n",
              "    .colab-df-convert {\n",
              "      background-color: #E8F0FE;\n",
              "      border: none;\n",
              "      border-radius: 50%;\n",
              "      cursor: pointer;\n",
              "      display: none;\n",
              "      fill: #1967D2;\n",
              "      height: 32px;\n",
              "      padding: 0 0 0 0;\n",
              "      width: 32px;\n",
              "    }\n",
              "\n",
              "    .colab-df-convert:hover {\n",
              "      background-color: #E2EBFA;\n",
              "      box-shadow: 0px 1px 2px rgba(60, 64, 67, 0.3), 0px 1px 3px 1px rgba(60, 64, 67, 0.15);\n",
              "      fill: #174EA6;\n",
              "    }\n",
              "\n",
              "    [theme=dark] .colab-df-convert {\n",
              "      background-color: #3B4455;\n",
              "      fill: #D2E3FC;\n",
              "    }\n",
              "\n",
              "    [theme=dark] .colab-df-convert:hover {\n",
              "      background-color: #434B5C;\n",
              "      box-shadow: 0px 1px 3px 1px rgba(0, 0, 0, 0.15);\n",
              "      filter: drop-shadow(0px 1px 2px rgba(0, 0, 0, 0.3));\n",
              "      fill: #FFFFFF;\n",
              "    }\n",
              "  </style>\n",
              "\n",
              "      <script>\n",
              "        const buttonEl =\n",
              "          document.querySelector('#df-4bae411e-7f1b-472d-ab8e-1111cdbb494f button.colab-df-convert');\n",
              "        buttonEl.style.display =\n",
              "          google.colab.kernel.accessAllowed ? 'block' : 'none';\n",
              "\n",
              "        async function convertToInteractive(key) {\n",
              "          const element = document.querySelector('#df-4bae411e-7f1b-472d-ab8e-1111cdbb494f');\n",
              "          const dataTable =\n",
              "            await google.colab.kernel.invokeFunction('convertToInteractive',\n",
              "                                                     [key], {});\n",
              "          if (!dataTable) return;\n",
              "\n",
              "          const docLinkHtml = 'Like what you see? Visit the ' +\n",
              "            '<a target=\"_blank\" href=https://colab.research.google.com/notebooks/data_table.ipynb>data table notebook</a>'\n",
              "            + ' to learn more about interactive tables.';\n",
              "          element.innerHTML = '';\n",
              "          dataTable['output_type'] = 'display_data';\n",
              "          await google.colab.output.renderOutput(dataTable, element);\n",
              "          const docLink = document.createElement('div');\n",
              "          docLink.innerHTML = docLinkHtml;\n",
              "          element.appendChild(docLink);\n",
              "        }\n",
              "      </script>\n",
              "    </div>\n",
              "  </div>\n",
              "  "
            ]
          },
          "metadata": {},
          "execution_count": 27
        }
      ]
    },
    {
      "cell_type": "markdown",
      "source": [
        "contacts Dataset"
      ],
      "metadata": {
        "id": "pcOpHTmSIV_F"
      }
    },
    {
      "cell_type": "code",
      "source": [
        "#Manipulation of contacts dataset\n",
        "\n",
        "#Convert date columns to datetime data type \n",
        "df_contacts['ts_contact_at'] = pd.to_datetime(df_contacts['ts_contact_at'])\n",
        "df_contacts['ts_reply_at'] = pd.to_datetime(df_contacts['ts_reply_at'])\n",
        "df_contacts['ts_accepted_at'] = pd.to_datetime(df_contacts['ts_accepted_at'])\n",
        "df_contacts['ts_booking_at'] = pd.to_datetime(df_contacts['ts_booking_at'])\n",
        "df_contacts['ds_checkin'] = pd.to_datetime(df_contacts['ds_checkin'])\n",
        "df_contacts['ds_checkout'] = pd.to_datetime(df_contacts['ds_checkout'])\n",
        "df_contacts['accepted'] = np.where(np.isnan(df_contacts['ts_accepted_at']), False, True)\n",
        "\n",
        "df_contacts['length_stay'] = df_contacts['ds_checkout'] - df_contacts['ds_checkin']\n",
        "\n",
        "#Understand dataset\n",
        "display(df_contacts.dtypes)\n",
        "display(df_contacts.describe())"
      ],
      "metadata": {
        "colab": {
          "base_uri": "https://localhost:8080/",
          "height": 543
        },
        "id": "dciWf5V6rqyk",
        "outputId": "6a8c3d85-1932-4114-f546-cb19256e4f1a"
      },
      "execution_count": 28,
      "outputs": [
        {
          "output_type": "display_data",
          "data": {
            "text/plain": [
              "id_guest                   object\n",
              "id_host                    object\n",
              "id_listing                 object\n",
              "ts_contact_at      datetime64[ns]\n",
              "ts_reply_at        datetime64[ns]\n",
              "ts_accepted_at     datetime64[ns]\n",
              "ts_booking_at      datetime64[ns]\n",
              "ds_checkin         datetime64[ns]\n",
              "ds_checkout        datetime64[ns]\n",
              "n_guests                    int64\n",
              "n_messages                  int64\n",
              "accepted                     bool\n",
              "length_stay       timedelta64[ns]\n",
              "dtype: object"
            ]
          },
          "metadata": {}
        },
        {
          "output_type": "display_data",
          "data": {
            "text/plain": [
              "          n_guests   n_messages                 length_stay\n",
              "count  7823.000000  7823.000000                        7823\n",
              "mean      2.422600     6.319954   5 days 19:25:32.864629937\n",
              "std       1.617347     6.472827  14 days 23:45:24.447710564\n",
              "min       1.000000     1.000000             1 days 00:00:00\n",
              "25%       1.000000     2.000000             2 days 00:00:00\n",
              "50%       2.000000     4.000000             3 days 00:00:00\n",
              "75%       3.000000     8.000000             5 days 00:00:00\n",
              "max      16.000000   102.000000           334 days 00:00:00"
            ],
            "text/html": [
              "\n",
              "  <div id=\"df-a2019f87-5445-4817-af0c-eb29c3156b42\">\n",
              "    <div class=\"colab-df-container\">\n",
              "      <div>\n",
              "<style scoped>\n",
              "    .dataframe tbody tr th:only-of-type {\n",
              "        vertical-align: middle;\n",
              "    }\n",
              "\n",
              "    .dataframe tbody tr th {\n",
              "        vertical-align: top;\n",
              "    }\n",
              "\n",
              "    .dataframe thead th {\n",
              "        text-align: right;\n",
              "    }\n",
              "</style>\n",
              "<table border=\"1\" class=\"dataframe\">\n",
              "  <thead>\n",
              "    <tr style=\"text-align: right;\">\n",
              "      <th></th>\n",
              "      <th>n_guests</th>\n",
              "      <th>n_messages</th>\n",
              "      <th>length_stay</th>\n",
              "    </tr>\n",
              "  </thead>\n",
              "  <tbody>\n",
              "    <tr>\n",
              "      <th>count</th>\n",
              "      <td>7823.000000</td>\n",
              "      <td>7823.000000</td>\n",
              "      <td>7823</td>\n",
              "    </tr>\n",
              "    <tr>\n",
              "      <th>mean</th>\n",
              "      <td>2.422600</td>\n",
              "      <td>6.319954</td>\n",
              "      <td>5 days 19:25:32.864629937</td>\n",
              "    </tr>\n",
              "    <tr>\n",
              "      <th>std</th>\n",
              "      <td>1.617347</td>\n",
              "      <td>6.472827</td>\n",
              "      <td>14 days 23:45:24.447710564</td>\n",
              "    </tr>\n",
              "    <tr>\n",
              "      <th>min</th>\n",
              "      <td>1.000000</td>\n",
              "      <td>1.000000</td>\n",
              "      <td>1 days 00:00:00</td>\n",
              "    </tr>\n",
              "    <tr>\n",
              "      <th>25%</th>\n",
              "      <td>1.000000</td>\n",
              "      <td>2.000000</td>\n",
              "      <td>2 days 00:00:00</td>\n",
              "    </tr>\n",
              "    <tr>\n",
              "      <th>50%</th>\n",
              "      <td>2.000000</td>\n",
              "      <td>4.000000</td>\n",
              "      <td>3 days 00:00:00</td>\n",
              "    </tr>\n",
              "    <tr>\n",
              "      <th>75%</th>\n",
              "      <td>3.000000</td>\n",
              "      <td>8.000000</td>\n",
              "      <td>5 days 00:00:00</td>\n",
              "    </tr>\n",
              "    <tr>\n",
              "      <th>max</th>\n",
              "      <td>16.000000</td>\n",
              "      <td>102.000000</td>\n",
              "      <td>334 days 00:00:00</td>\n",
              "    </tr>\n",
              "  </tbody>\n",
              "</table>\n",
              "</div>\n",
              "      <button class=\"colab-df-convert\" onclick=\"convertToInteractive('df-a2019f87-5445-4817-af0c-eb29c3156b42')\"\n",
              "              title=\"Convert this dataframe to an interactive table.\"\n",
              "              style=\"display:none;\">\n",
              "        \n",
              "  <svg xmlns=\"http://www.w3.org/2000/svg\" height=\"24px\"viewBox=\"0 0 24 24\"\n",
              "       width=\"24px\">\n",
              "    <path d=\"M0 0h24v24H0V0z\" fill=\"none\"/>\n",
              "    <path d=\"M18.56 5.44l.94 2.06.94-2.06 2.06-.94-2.06-.94-.94-2.06-.94 2.06-2.06.94zm-11 1L8.5 8.5l.94-2.06 2.06-.94-2.06-.94L8.5 2.5l-.94 2.06-2.06.94zm10 10l.94 2.06.94-2.06 2.06-.94-2.06-.94-.94-2.06-.94 2.06-2.06.94z\"/><path d=\"M17.41 7.96l-1.37-1.37c-.4-.4-.92-.59-1.43-.59-.52 0-1.04.2-1.43.59L10.3 9.45l-7.72 7.72c-.78.78-.78 2.05 0 2.83L4 21.41c.39.39.9.59 1.41.59.51 0 1.02-.2 1.41-.59l7.78-7.78 2.81-2.81c.8-.78.8-2.07 0-2.86zM5.41 20L4 18.59l7.72-7.72 1.47 1.35L5.41 20z\"/>\n",
              "  </svg>\n",
              "      </button>\n",
              "      \n",
              "  <style>\n",
              "    .colab-df-container {\n",
              "      display:flex;\n",
              "      flex-wrap:wrap;\n",
              "      gap: 12px;\n",
              "    }\n",
              "\n",
              "    .colab-df-convert {\n",
              "      background-color: #E8F0FE;\n",
              "      border: none;\n",
              "      border-radius: 50%;\n",
              "      cursor: pointer;\n",
              "      display: none;\n",
              "      fill: #1967D2;\n",
              "      height: 32px;\n",
              "      padding: 0 0 0 0;\n",
              "      width: 32px;\n",
              "    }\n",
              "\n",
              "    .colab-df-convert:hover {\n",
              "      background-color: #E2EBFA;\n",
              "      box-shadow: 0px 1px 2px rgba(60, 64, 67, 0.3), 0px 1px 3px 1px rgba(60, 64, 67, 0.15);\n",
              "      fill: #174EA6;\n",
              "    }\n",
              "\n",
              "    [theme=dark] .colab-df-convert {\n",
              "      background-color: #3B4455;\n",
              "      fill: #D2E3FC;\n",
              "    }\n",
              "\n",
              "    [theme=dark] .colab-df-convert:hover {\n",
              "      background-color: #434B5C;\n",
              "      box-shadow: 0px 1px 3px 1px rgba(0, 0, 0, 0.15);\n",
              "      filter: drop-shadow(0px 1px 2px rgba(0, 0, 0, 0.3));\n",
              "      fill: #FFFFFF;\n",
              "    }\n",
              "  </style>\n",
              "\n",
              "      <script>\n",
              "        const buttonEl =\n",
              "          document.querySelector('#df-a2019f87-5445-4817-af0c-eb29c3156b42 button.colab-df-convert');\n",
              "        buttonEl.style.display =\n",
              "          google.colab.kernel.accessAllowed ? 'block' : 'none';\n",
              "\n",
              "        async function convertToInteractive(key) {\n",
              "          const element = document.querySelector('#df-a2019f87-5445-4817-af0c-eb29c3156b42');\n",
              "          const dataTable =\n",
              "            await google.colab.kernel.invokeFunction('convertToInteractive',\n",
              "                                                     [key], {});\n",
              "          if (!dataTable) return;\n",
              "\n",
              "          const docLinkHtml = 'Like what you see? Visit the ' +\n",
              "            '<a target=\"_blank\" href=https://colab.research.google.com/notebooks/data_table.ipynb>data table notebook</a>'\n",
              "            + ' to learn more about interactive tables.';\n",
              "          element.innerHTML = '';\n",
              "          dataTable['output_type'] = 'display_data';\n",
              "          await google.colab.output.renderOutput(dataTable, element);\n",
              "          const docLink = document.createElement('div');\n",
              "          docLink.innerHTML = docLinkHtml;\n",
              "          element.appendChild(docLink);\n",
              "        }\n",
              "      </script>\n",
              "    </div>\n",
              "  </div>\n",
              "  "
            ]
          },
          "metadata": {}
        }
      ]
    },
    {
      "cell_type": "code",
      "source": [
        "#Calculate skewness in contacts dataset\n",
        "\n",
        "display(df_contacts.skew(axis = 0, numeric_only = True, skipna = True))"
      ],
      "metadata": {
        "colab": {
          "base_uri": "https://localhost:8080/",
          "height": 86
        },
        "id": "O44ech0mIm-b",
        "outputId": "5dae10f3-3d14-446c-f651-efa0be669828"
      },
      "execution_count": 30,
      "outputs": [
        {
          "output_type": "display_data",
          "data": {
            "text/plain": [
              "n_guests      2.441468\n",
              "n_messages    3.696440\n",
              "accepted      0.145883\n",
              "dtype: float64"
            ]
          },
          "metadata": {}
        }
      ]
    },
    {
      "cell_type": "markdown",
      "source": [
        "All columns have a Fisher-Pearson coefficient value greater than 1. Except for accepted, which could be due to it being derived from an existing column. With more time, I would have used a transformation method such as box-cox to reduce the skewness."
      ],
      "metadata": {
        "id": "xUIi1wI3JQ5J"
      }
    },
    {
      "cell_type": "code",
      "source": [
        "#Number of guests stayed\n",
        "\n",
        "contacts_less8 = df_contacts[df_contacts['n_guests'] < 8]\n",
        "sns.displot(contacts_less8, x = 'n_guests', hue = 'accepted', multiple=\"dodge\")\n",
        "plt.show()"
      ],
      "metadata": {
        "colab": {
          "base_uri": "https://localhost:8080/",
          "height": 369
        },
        "id": "F4FfKxGIJAuD",
        "outputId": "077fe6e2-5897-41f3-fb95-5dbc5c76c3ff"
      },
      "execution_count": 33,
      "outputs": [
        {
          "output_type": "display_data",
          "data": {
            "text/plain": [
              "<Figure size 421.25x360 with 1 Axes>"
            ],
            "image/png": "[encoded data removed]"
          },
          "metadata": {
            "needs_background": "light"
          }
        }
      ]
    },
    {
      "cell_type": "markdown",
      "source": [
        "Choosing less than 8 guests, since only 1.46% (114 values) of the contacts dataset has 8 or more guests. To better visualize the majority distribution we removed rows with 8 or more guests.\n",
        "\n",
        "2 guests is the most popular option to book, but 1 guest is the most popularly searched option. This leads me to believe there is a lack of supply of viable single guest rooms."
      ],
      "metadata": {
        "id": "5MNhoVoJJvmU"
      }
    },
    {
      "cell_type": "code",
      "source": [
        "#Conversion rate from accepting to booking\n",
        "\n",
        "df_contacts['ts_booking_at'].count()/df_contacts['ts_accepted_at'].count()"
      ],
      "metadata": {
        "colab": {
          "base_uri": "https://localhost:8080/"
        },
        "id": "RZX542UwJexe",
        "outputId": "3cf03892-f763-4d90-a46f-c9979d429712"
      },
      "execution_count": 34,
      "outputs": [
        {
          "output_type": "execute_result",
          "data": {
            "text/plain": [
              "0.5993934381031155"
            ]
          },
          "metadata": {},
          "execution_count": 34
        }
      ]
    },
    {
      "cell_type": "code",
      "source": [
        "#Timeframe of when guests or accepted vs rejected\n",
        "\n",
        "df_contacts['month_checkin'] = df_contacts['ds_checkin'].dt.month #Extract month from checkin date\n",
        "contacts_checkin = df_contacts[df_contacts['month_checkin'] > 9] #Use only peak season months (Oct, Nov, Dec)\n",
        "\n",
        "#Distribution of checkin among October, November, and December and split by acceptance\n",
        "sns.displot(contacts_checkin, x='month_checkin', hue = 'accepted', multiple=\"dodge\")\n",
        "plt.xticks([10, 11, 12])\n",
        "plt.show()"
      ],
      "metadata": {
        "colab": {
          "base_uri": "https://localhost:8080/",
          "height": 369
        },
        "id": "cQqdpwyaJ81s",
        "outputId": "efd6d9fb-c077-4a2b-dd05-c2a57cb417cb"
      },
      "execution_count": 35,
      "outputs": [
        {
          "output_type": "display_data",
          "data": {
            "text/plain": [
              "<Figure size 421.25x360 with 1 Axes>"
            ],
            "image/png": "[encoded data removed]"
          },
          "metadata": {
            "needs_background": "light"
          }
        }
      ]
    },
    {
      "cell_type": "code",
      "source": [
        "#Merge datasets for more analysis\n",
        "\n",
        "merged_datasets = df_contacts.merge(df_searches, left_on='id_guest', right_on='id_user')"
      ],
      "metadata": {
        "id": "LO_wjO7BKCdK"
      },
      "execution_count": 36,
      "outputs": []
    },
    {
      "cell_type": "code",
      "source": [
        "#Check difference between prices searched between accepted/rejected applicants\n",
        "\n",
        "merged_pricemax_filter = merged_datasets.loc[(merged_datasets['filter_price_max'] <= 600)]\n",
        "\n",
        "sns.displot(merged_pricemax_filter, x=\"filter_price_max\", hue=\"accepted\", multiple=\"dodge\")\n",
        "plt.show()"
      ],
      "metadata": {
        "colab": {
          "base_uri": "https://localhost:8080/",
          "height": 369
        },
        "id": "wDCWkB-nKLuc",
        "outputId": "f80ee78e-86e1-4ec9-b7dc-ef429218a15e"
      },
      "execution_count": 37,
      "outputs": [
        {
          "output_type": "display_data",
          "data": {
            "text/plain": [
              "<Figure size 421.25x360 with 1 Axes>"
            ],
            "image/png": "[encoded data removed]"
          },
          "metadata": {
            "needs_background": "light"
          }
        }
      ]
    },
    {
      "cell_type": "markdown",
      "source": [
        "To further help better visualize the trend we set the filter price max as less or equal to 600. 600 was chosen as the limit since only 14.25% of the dataset has values greater than 600.\n",
        "\n",
        "As seen, more people are rejected compared than accepted with an average acceptance rate of 43%"
      ],
      "metadata": {
        "id": "P8bG5d8sKSZp"
      }
    },
    {
      "cell_type": "code",
      "source": [
        "#Classify dataset based on filter_price_max\n",
        "\n",
        "def label_price (row):\n",
        "    if (row['filter_price_max'] >= 0) & (row['filter_price_max'] < 100):\n",
        "        return '0-100'\n",
        "    \n",
        "    elif (row['filter_price_max'] >= 100) & (row['filter_price_max'] < 200):\n",
        "        return '100-200'\n",
        "\n",
        "    elif (row['filter_price_max'] >= 200) & (row['filter_price_max'] < 300):\n",
        "        return '200-300'\n",
        "    \n",
        "    elif (row['filter_price_max'] >= 300) & (row['filter_price_max'] < 400):\n",
        "        return '300-400'\n",
        "\n",
        "    elif (row['filter_price_max'] >= 400) & (row['filter_price_max'] < 500):\n",
        "        return '400-500'\n",
        "    \n",
        "    elif (row['filter_price_max'] >= 500) & (row['filter_price_max'] < 600):\n",
        "        return '500-600'\n",
        "    \n",
        "    else:\n",
        "        return '600+'\n",
        "\n",
        "merged_datasets['classification_max_price'] = merged_datasets.apply(lambda row: label_price(row), axis=1)\n",
        "\n",
        "merged_datasets.groupby('classification_max_price').agg({'accepted': 'mean'})"
      ],
      "metadata": {
        "colab": {
          "base_uri": "https://localhost:8080/",
          "height": 300
        },
        "id": "wsEU-l_XKOST",
        "outputId": "fd7da633-b008-49bd-d222-4c17b4380e8e"
      },
      "execution_count": 38,
      "outputs": [
        {
          "output_type": "execute_result",
          "data": {
            "text/plain": [
              "                          accepted\n",
              "classification_max_price          \n",
              "0-100                     0.411160\n",
              "100-200                   0.430308\n",
              "200-300                   0.431149\n",
              "300-400                   0.450488\n",
              "400-500                   0.485549\n",
              "500-600                   0.422297\n",
              "600+                      0.433122"
            ],
            "text/html": [
              "\n",
              "  <div id=\"df-800108c0-ce5d-49dd-ba45-1c9369250513\">\n",
              "    <div class=\"colab-df-container\">\n",
              "      <div>\n",
              "<style scoped>\n",
              "    .dataframe tbody tr th:only-of-type {\n",
              "        vertical-align: middle;\n",
              "    }\n",
              "\n",
              "    .dataframe tbody tr th {\n",
              "        vertical-align: top;\n",
              "    }\n",
              "\n",
              "    .dataframe thead th {\n",
              "        text-align: right;\n",
              "    }\n",
              "</style>\n",
              "<table border=\"1\" class=\"dataframe\">\n",
              "  <thead>\n",
              "    <tr style=\"text-align: right;\">\n",
              "      <th></th>\n",
              "      <th>accepted</th>\n",
              "    </tr>\n",
              "    <tr>\n",
              "      <th>classification_max_price</th>\n",
              "      <th></th>\n",
              "    </tr>\n",
              "  </thead>\n",
              "  <tbody>\n",
              "    <tr>\n",
              "      <th>0-100</th>\n",
              "      <td>0.411160</td>\n",
              "    </tr>\n",
              "    <tr>\n",
              "      <th>100-200</th>\n",
              "      <td>0.430308</td>\n",
              "    </tr>\n",
              "    <tr>\n",
              "      <th>200-300</th>\n",
              "      <td>0.431149</td>\n",
              "    </tr>\n",
              "    <tr>\n",
              "      <th>300-400</th>\n",
              "      <td>0.450488</td>\n",
              "    </tr>\n",
              "    <tr>\n",
              "      <th>400-500</th>\n",
              "      <td>0.485549</td>\n",
              "    </tr>\n",
              "    <tr>\n",
              "      <th>500-600</th>\n",
              "      <td>0.422297</td>\n",
              "    </tr>\n",
              "    <tr>\n",
              "      <th>600+</th>\n",
              "      <td>0.433122</td>\n",
              "    </tr>\n",
              "  </tbody>\n",
              "</table>\n",
              "</div>\n",
              "      <button class=\"colab-df-convert\" onclick=\"convertToInteractive('df-800108c0-ce5d-49dd-ba45-1c9369250513')\"\n",
              "              title=\"Convert this dataframe to an interactive table.\"\n",
              "              style=\"display:none;\">\n",
              "        \n",
              "  <svg xmlns=\"http://www.w3.org/2000/svg\" height=\"24px\"viewBox=\"0 0 24 24\"\n",
              "       width=\"24px\">\n",
              "    <path d=\"M0 0h24v24H0V0z\" fill=\"none\"/>\n",
              "    <path d=\"M18.56 5.44l.94 2.06.94-2.06 2.06-.94-2.06-.94-.94-2.06-.94 2.06-2.06.94zm-11 1L8.5 8.5l.94-2.06 2.06-.94-2.06-.94L8.5 2.5l-.94 2.06-2.06.94zm10 10l.94 2.06.94-2.06 2.06-.94-2.06-.94-.94-2.06-.94 2.06-2.06.94z\"/><path d=\"M17.41 7.96l-1.37-1.37c-.4-.4-.92-.59-1.43-.59-.52 0-1.04.2-1.43.59L10.3 9.45l-7.72 7.72c-.78.78-.78 2.05 0 2.83L4 21.41c.39.39.9.59 1.41.59.51 0 1.02-.2 1.41-.59l7.78-7.78 2.81-2.81c.8-.78.8-2.07 0-2.86zM5.41 20L4 18.59l7.72-7.72 1.47 1.35L5.41 20z\"/>\n",
              "  </svg>\n",
              "      </button>\n",
              "      \n",
              "  <style>\n",
              "    .colab-df-container {\n",
              "      display:flex;\n",
              "      flex-wrap:wrap;\n",
              "      gap: 12px;\n",
              "    }\n",
              "\n",
              "    .colab-df-convert {\n",
              "      background-color: #E8F0FE;\n",
              "      border: none;\n",
              "      border-radius: 50%;\n",
              "      cursor: pointer;\n",
              "      display: none;\n",
              "      fill: #1967D2;\n",
              "      height: 32px;\n",
              "      padding: 0 0 0 0;\n",
              "      width: 32px;\n",
              "    }\n",
              "\n",
              "    .colab-df-convert:hover {\n",
              "      background-color: #E2EBFA;\n",
              "      box-shadow: 0px 1px 2px rgba(60, 64, 67, 0.3), 0px 1px 3px 1px rgba(60, 64, 67, 0.15);\n",
              "      fill: #174EA6;\n",
              "    }\n",
              "\n",
              "    [theme=dark] .colab-df-convert {\n",
              "      background-color: #3B4455;\n",
              "      fill: #D2E3FC;\n",
              "    }\n",
              "\n",
              "    [theme=dark] .colab-df-convert:hover {\n",
              "      background-color: #434B5C;\n",
              "      box-shadow: 0px 1px 3px 1px rgba(0, 0, 0, 0.15);\n",
              "      filter: drop-shadow(0px 1px 2px rgba(0, 0, 0, 0.3));\n",
              "      fill: #FFFFFF;\n",
              "    }\n",
              "  </style>\n",
              "\n",
              "      <script>\n",
              "        const buttonEl =\n",
              "          document.querySelector('#df-800108c0-ce5d-49dd-ba45-1c9369250513 button.colab-df-convert');\n",
              "        buttonEl.style.display =\n",
              "          google.colab.kernel.accessAllowed ? 'block' : 'none';\n",
              "\n",
              "        async function convertToInteractive(key) {\n",
              "          const element = document.querySelector('#df-800108c0-ce5d-49dd-ba45-1c9369250513');\n",
              "          const dataTable =\n",
              "            await google.colab.kernel.invokeFunction('convertToInteractive',\n",
              "                                                     [key], {});\n",
              "          if (!dataTable) return;\n",
              "\n",
              "          const docLinkHtml = 'Like what you see? Visit the ' +\n",
              "            '<a target=\"_blank\" href=https://colab.research.google.com/notebooks/data_table.ipynb>data table notebook</a>'\n",
              "            + ' to learn more about interactive tables.';\n",
              "          element.innerHTML = '';\n",
              "          dataTable['output_type'] = 'display_data';\n",
              "          await google.colab.output.renderOutput(dataTable, element);\n",
              "          const docLink = document.createElement('div');\n",
              "          docLink.innerHTML = docLinkHtml;\n",
              "          element.appendChild(docLink);\n",
              "        }\n",
              "      </script>\n",
              "    </div>\n",
              "  </div>\n",
              "  "
            ]
          },
          "metadata": {},
          "execution_count": 38
        }
      ]
    },
    {
      "cell_type": "markdown",
      "source": [
        "Based on this table, it can be seen that regardless of max_filter_price, people are rejected at similar rates"
      ],
      "metadata": {
        "id": "rGhHl8vxKd7M"
      }
    },
    {
      "cell_type": "code",
      "source": [
        "#Find the acceptance rate by country\n",
        "\n",
        "dataset_country = merged_datasets[['origin_country', 'accepted']]\n",
        "\n",
        "#Find acceptance count by country and accepted\n",
        "accepted_count = dataset_country.groupby(['origin_country', 'accepted']).agg({'origin_country':'count'})\n",
        "accepted_count.columns = ['count_accepted']\n",
        "\n",
        "#Find acceptance count by country\n",
        "country_count = dataset_country.groupby(['origin_country']).agg({'origin_country':'count'})\n",
        "country_count.columns = ['count_country']\n",
        "\n",
        "#Merge datasets for easier manipulation \n",
        "acceptance_country = pd.merge(dataset_country, accepted_count,  how='left', on=['origin_country','accepted']) #Merge accepted count\n",
        "acceptance_country = acceptance_country.drop_duplicates()\n",
        "\n",
        "acceptance_country = pd.merge(acceptance_country, country_count, how='left', on=['origin_country']) #Merge total country count\n",
        "acceptance_country = acceptance_country.sort_values(['count_country', 'accepted'], ascending = [False, True])\n",
        "acceptance_country = acceptance_country[acceptance_country['count_country'] >= 100] #100 is used so there is a good amount of data to make assumptions\n",
        "acceptance_country = acceptance_country[acceptance_country['accepted'] == True]\n",
        "\n",
        "#Divide count_accepted column by count_country column to find acceptance rate by country\n",
        "acceptance_country['acceptance_rate'] = acceptance_country['count_accepted']/acceptance_country['count_country']\n",
        "acceptance_country.sort_values(['acceptance_rate'], ascending = True)"
      ],
      "metadata": {
        "colab": {
          "base_uri": "https://localhost:8080/",
          "height": 770
        },
        "id": "GmFpSpL7KXMn",
        "outputId": "45b009e8-0f98-460d-fdcb-36d066170085"
      },
      "execution_count": 39,
      "outputs": [
        {
          "output_type": "execute_result",
          "data": {
            "text/plain": [
              "    origin_country accepted  count_accepted  count_country  acceptance_rate\n",
              "73              IN     True             138            874         0.157895\n",
              "55              HR     True             159            530         0.300000\n",
              "72              AT     True              83            239         0.347280\n",
              "54              RU     True              83            239         0.347280\n",
              "11              IT     True            1183           3137         0.377112\n",
              "100             AE     True              59            154         0.383117\n",
              "0               CA     True             407            993         0.409869\n",
              "13              IE     True            1217           2951         0.412403\n",
              "24              ES     True             794           1914         0.414838\n",
              "49              RO     True              50            118         0.423729\n",
              "78              CR     True              82            188         0.436170\n",
              "6               GB     True            1610           3667         0.439051\n",
              "25              BE     True             134            304         0.440789\n",
              "38              BR     True             215            482         0.446058\n",
              "27              AU     True             268            590         0.454237\n",
              "17              FR     True            1526           3232         0.472153\n",
              "12              CH     True             279            585         0.476923\n",
              "7               US     True            2050           4298         0.476966\n",
              "14              DE     True             745           1535         0.485342\n",
              "31              NL     True             212            433         0.489607\n",
              "46              SG     True             115            232         0.495690\n",
              "65              PT     True             101            203         0.497537\n",
              "1               DK     True              86            125         0.688000"
            ],
            "text/html": [
              "\n",
              "  <div id=\"df-a2cbfb07-4ab3-40b2-a338-be69b091c495\">\n",
              "    <div class=\"colab-df-container\">\n",
              "      <div>\n",
              "<style scoped>\n",
              "    .dataframe tbody tr th:only-of-type {\n",
              "        vertical-align: middle;\n",
              "    }\n",
              "\n",
              "    .dataframe tbody tr th {\n",
              "        vertical-align: top;\n",
              "    }\n",
              "\n",
              "    .dataframe thead th {\n",
              "        text-align: right;\n",
              "    }\n",
              "</style>\n",
              "<table border=\"1\" class=\"dataframe\">\n",
              "  <thead>\n",
              "    <tr style=\"text-align: right;\">\n",
              "      <th></th>\n",
              "      <th>origin_country</th>\n",
              "      <th>accepted</th>\n",
              "      <th>count_accepted</th>\n",
              "      <th>count_country</th>\n",
              "      <th>acceptance_rate</th>\n",
              "    </tr>\n",
              "  </thead>\n",
              "  <tbody>\n",
              "    <tr>\n",
              "      <th>73</th>\n",
              "      <td>IN</td>\n",
              "      <td>True</td>\n",
              "      <td>138</td>\n",
              "      <td>874</td>\n",
              "      <td>0.157895</td>\n",
              "    </tr>\n",
              "    <tr>\n",
              "      <th>55</th>\n",
              "      <td>HR</td>\n",
              "      <td>True</td>\n",
              "      <td>159</td>\n",
              "      <td>530</td>\n",
              "      <td>0.300000</td>\n",
              "    </tr>\n",
              "    <tr>\n",
              "      <th>72</th>\n",
              "      <td>AT</td>\n",
              "      <td>True</td>\n",
              "      <td>83</td>\n",
              "      <td>239</td>\n",
              "      <td>0.347280</td>\n",
              "    </tr>\n",
              "    <tr>\n",
              "      <th>54</th>\n",
              "      <td>RU</td>\n",
              "      <td>True</td>\n",
              "      <td>83</td>\n",
              "      <td>239</td>\n",
              "      <td>0.347280</td>\n",
              "    </tr>\n",
              "    <tr>\n",
              "      <th>11</th>\n",
              "      <td>IT</td>\n",
              "      <td>True</td>\n",
              "      <td>1183</td>\n",
              "      <td>3137</td>\n",
              "      <td>0.377112</td>\n",
              "    </tr>\n",
              "    <tr>\n",
              "      <th>100</th>\n",
              "      <td>AE</td>\n",
              "      <td>True</td>\n",
              "      <td>59</td>\n",
              "      <td>154</td>\n",
              "      <td>0.383117</td>\n",
              "    </tr>\n",
              "    <tr>\n",
              "      <th>0</th>\n",
              "      <td>CA</td>\n",
              "      <td>True</td>\n",
              "      <td>407</td>\n",
              "      <td>993</td>\n",
              "      <td>0.409869</td>\n",
              "    </tr>\n",
              "    <tr>\n",
              "      <th>13</th>\n",
              "      <td>IE</td>\n",
              "      <td>True</td>\n",
              "      <td>1217</td>\n",
              "      <td>2951</td>\n",
              "      <td>0.412403</td>\n",
              "    </tr>\n",
              "    <tr>\n",
              "      <th>24</th>\n",
              "      <td>ES</td>\n",
              "      <td>True</td>\n",
              "      <td>794</td>\n",
              "      <td>1914</td>\n",
              "      <td>0.414838</td>\n",
              "    </tr>\n",
              "    <tr>\n",
              "      <th>49</th>\n",
              "      <td>RO</td>\n",
              "      <td>True</td>\n",
              "      <td>50</td>\n",
              "      <td>118</td>\n",
              "      <td>0.423729</td>\n",
              "    </tr>\n",
              "    <tr>\n",
              "      <th>78</th>\n",
              "      <td>CR</td>\n",
              "      <td>True</td>\n",
              "      <td>82</td>\n",
              "      <td>188</td>\n",
              "      <td>0.436170</td>\n",
              "    </tr>\n",
              "    <tr>\n",
              "      <th>6</th>\n",
              "      <td>GB</td>\n",
              "      <td>True</td>\n",
              "      <td>1610</td>\n",
              "      <td>3667</td>\n",
              "      <td>0.439051</td>\n",
              "    </tr>\n",
              "    <tr>\n",
              "      <th>25</th>\n",
              "      <td>BE</td>\n",
              "      <td>True</td>\n",
              "      <td>134</td>\n",
              "      <td>304</td>\n",
              "      <td>0.440789</td>\n",
              "    </tr>\n",
              "    <tr>\n",
              "      <th>38</th>\n",
              "      <td>BR</td>\n",
              "      <td>True</td>\n",
              "      <td>215</td>\n",
              "      <td>482</td>\n",
              "      <td>0.446058</td>\n",
              "    </tr>\n",
              "    <tr>\n",
              "      <th>27</th>\n",
              "      <td>AU</td>\n",
              "      <td>True</td>\n",
              "      <td>268</td>\n",
              "      <td>590</td>\n",
              "      <td>0.454237</td>\n",
              "    </tr>\n",
              "    <tr>\n",
              "      <th>17</th>\n",
              "      <td>FR</td>\n",
              "      <td>True</td>\n",
              "      <td>1526</td>\n",
              "      <td>3232</td>\n",
              "      <td>0.472153</td>\n",
              "    </tr>\n",
              "    <tr>\n",
              "      <th>12</th>\n",
              "      <td>CH</td>\n",
              "      <td>True</td>\n",
              "      <td>279</td>\n",
              "      <td>585</td>\n",
              "      <td>0.476923</td>\n",
              "    </tr>\n",
              "    <tr>\n",
              "      <th>7</th>\n",
              "      <td>US</td>\n",
              "      <td>True</td>\n",
              "      <td>2050</td>\n",
              "      <td>4298</td>\n",
              "      <td>0.476966</td>\n",
              "    </tr>\n",
              "    <tr>\n",
              "      <th>14</th>\n",
              "      <td>DE</td>\n",
              "      <td>True</td>\n",
              "      <td>745</td>\n",
              "      <td>1535</td>\n",
              "      <td>0.485342</td>\n",
              "    </tr>\n",
              "    <tr>\n",
              "      <th>31</th>\n",
              "      <td>NL</td>\n",
              "      <td>True</td>\n",
              "      <td>212</td>\n",
              "      <td>433</td>\n",
              "      <td>0.489607</td>\n",
              "    </tr>\n",
              "    <tr>\n",
              "      <th>46</th>\n",
              "      <td>SG</td>\n",
              "      <td>True</td>\n",
              "      <td>115</td>\n",
              "      <td>232</td>\n",
              "      <td>0.495690</td>\n",
              "    </tr>\n",
              "    <tr>\n",
              "      <th>65</th>\n",
              "      <td>PT</td>\n",
              "      <td>True</td>\n",
              "      <td>101</td>\n",
              "      <td>203</td>\n",
              "      <td>0.497537</td>\n",
              "    </tr>\n",
              "    <tr>\n",
              "      <th>1</th>\n",
              "      <td>DK</td>\n",
              "      <td>True</td>\n",
              "      <td>86</td>\n",
              "      <td>125</td>\n",
              "      <td>0.688000</td>\n",
              "    </tr>\n",
              "  </tbody>\n",
              "</table>\n",
              "</div>\n",
              "      <button class=\"colab-df-convert\" onclick=\"convertToInteractive('df-a2cbfb07-4ab3-40b2-a338-be69b091c495')\"\n",
              "              title=\"Convert this dataframe to an interactive table.\"\n",
              "              style=\"display:none;\">\n",
              "        \n",
              "  <svg xmlns=\"http://www.w3.org/2000/svg\" height=\"24px\"viewBox=\"0 0 24 24\"\n",
              "       width=\"24px\">\n",
              "    <path d=\"M0 0h24v24H0V0z\" fill=\"none\"/>\n",
              "    <path d=\"M18.56 5.44l.94 2.06.94-2.06 2.06-.94-2.06-.94-.94-2.06-.94 2.06-2.06.94zm-11 1L8.5 8.5l.94-2.06 2.06-.94-2.06-.94L8.5 2.5l-.94 2.06-2.06.94zm10 10l.94 2.06.94-2.06 2.06-.94-2.06-.94-.94-2.06-.94 2.06-2.06.94z\"/><path d=\"M17.41 7.96l-1.37-1.37c-.4-.4-.92-.59-1.43-.59-.52 0-1.04.2-1.43.59L10.3 9.45l-7.72 7.72c-.78.78-.78 2.05 0 2.83L4 21.41c.39.39.9.59 1.41.59.51 0 1.02-.2 1.41-.59l7.78-7.78 2.81-2.81c.8-.78.8-2.07 0-2.86zM5.41 20L4 18.59l7.72-7.72 1.47 1.35L5.41 20z\"/>\n",
              "  </svg>\n",
              "      </button>\n",
              "      \n",
              "  <style>\n",
              "    .colab-df-container {\n",
              "      display:flex;\n",
              "      flex-wrap:wrap;\n",
              "      gap: 12px;\n",
              "    }\n",
              "\n",
              "    .colab-df-convert {\n",
              "      background-color: #E8F0FE;\n",
              "      border: none;\n",
              "      border-radius: 50%;\n",
              "      cursor: pointer;\n",
              "      display: none;\n",
              "      fill: #1967D2;\n",
              "      height: 32px;\n",
              "      padding: 0 0 0 0;\n",
              "      width: 32px;\n",
              "    }\n",
              "\n",
              "    .colab-df-convert:hover {\n",
              "      background-color: #E2EBFA;\n",
              "      box-shadow: 0px 1px 2px rgba(60, 64, 67, 0.3), 0px 1px 3px 1px rgba(60, 64, 67, 0.15);\n",
              "      fill: #174EA6;\n",
              "    }\n",
              "\n",
              "    [theme=dark] .colab-df-convert {\n",
              "      background-color: #3B4455;\n",
              "      fill: #D2E3FC;\n",
              "    }\n",
              "\n",
              "    [theme=dark] .colab-df-convert:hover {\n",
              "      background-color: #434B5C;\n",
              "      box-shadow: 0px 1px 3px 1px rgba(0, 0, 0, 0.15);\n",
              "      filter: drop-shadow(0px 1px 2px rgba(0, 0, 0, 0.3));\n",
              "      fill: #FFFFFF;\n",
              "    }\n",
              "  </style>\n",
              "\n",
              "      <script>\n",
              "        const buttonEl =\n",
              "          document.querySelector('#df-a2cbfb07-4ab3-40b2-a338-be69b091c495 button.colab-df-convert');\n",
              "        buttonEl.style.display =\n",
              "          google.colab.kernel.accessAllowed ? 'block' : 'none';\n",
              "\n",
              "        async function convertToInteractive(key) {\n",
              "          const element = document.querySelector('#df-a2cbfb07-4ab3-40b2-a338-be69b091c495');\n",
              "          const dataTable =\n",
              "            await google.colab.kernel.invokeFunction('convertToInteractive',\n",
              "                                                     [key], {});\n",
              "          if (!dataTable) return;\n",
              "\n",
              "          const docLinkHtml = 'Like what you see? Visit the ' +\n",
              "            '<a target=\"_blank\" href=https://colab.research.google.com/notebooks/data_table.ipynb>data table notebook</a>'\n",
              "            + ' to learn more about interactive tables.';\n",
              "          element.innerHTML = '';\n",
              "          dataTable['output_type'] = 'display_data';\n",
              "          await google.colab.output.renderOutput(dataTable, element);\n",
              "          const docLink = document.createElement('div');\n",
              "          docLink.innerHTML = docLinkHtml;\n",
              "          element.appendChild(docLink);\n",
              "        }\n",
              "      </script>\n",
              "    </div>\n",
              "  </div>\n",
              "  "
            ]
          },
          "metadata": {},
          "execution_count": 39
        }
      ]
    },
    {
      "cell_type": "markdown",
      "source": [
        "An interesting point is that India only has the lowest acceptance rate of 15%, which is half of the acceptance rate compared to the second lowest accepted country. Needs to be investigated further"
      ],
      "metadata": {
        "id": "Bl9DTXFlKu_a"
      }
    }
  ]
}