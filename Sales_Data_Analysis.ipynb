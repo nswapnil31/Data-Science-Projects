{
  "cells": [
    {
      "cell_type": "markdown",
      "metadata": {
        "id": "view-in-github",
        "colab_type": "text"
      },
      "source": [
        "<a href=\"https://colab.research.google.com/github/nswapnil31/Data-Science-Projects/blob/main/Sales_Data_Analysis.ipynb\" target=\"_parent\"><img src=\"https://colab.research.google.com/assets/colab-badge.svg\" alt=\"Open In Colab\"/></a>"
      ]
    },
    {
      "cell_type": "code",
      "execution_count": null,
      "metadata": {
        "id": "TwSPtw4WjKEk"
      },
      "outputs": [],
      "source": [
        "import pandas as pd    # for data manipulation\n",
        "\n",
        "import numpy as np\n",
        "import seaborn as sns\n",
        "\n",
        "import matplotlib.pyplot as plt\n",
        "\n",
        "import glob"
      ]
    },
    {
      "cell_type": "code",
      "execution_count": null,
      "metadata": {
        "id": "_5GLnnktjKEo"
      },
      "outputs": [],
      "source": [
        "\n",
        "path = 'C:\\\\Users\\\\00670\\\\Downloads\\\\Sales Data Analysis\\\\*.csv'\n",
        "\n",
        "df_list = [pd.read_csv(f) for f in glob.glob(path)]\n"
      ]
    },
    {
      "cell_type": "code",
      "execution_count": null,
      "metadata": {
        "id": "-5du7Q5zjKEp"
      },
      "outputs": [],
      "source": [
        "df_final = pd.concat(df_list)"
      ]
    },
    {
      "cell_type": "code",
      "execution_count": null,
      "metadata": {
        "id": "qWeBXEeljKEp",
        "outputId": "ff217073-1440-4c54-e12b-2a2d4672cc13"
      },
      "outputs": [
        {
          "data": {
            "text/html": [
              "<div>\n",
              "<style scoped>\n",
              "    .dataframe tbody tr th:only-of-type {\n",
              "        vertical-align: middle;\n",
              "    }\n",
              "\n",
              "    .dataframe tbody tr th {\n",
              "        vertical-align: top;\n",
              "    }\n",
              "\n",
              "    .dataframe thead th {\n",
              "        text-align: right;\n",
              "    }\n",
              "</style>\n",
              "<table border=\"1\" class=\"dataframe\">\n",
              "  <thead>\n",
              "    <tr style=\"text-align: right;\">\n",
              "      <th></th>\n",
              "      <th>sale_time</th>\n",
              "      <th>purchaser_gender</th>\n",
              "    </tr>\n",
              "  </thead>\n",
              "  <tbody>\n",
              "    <tr>\n",
              "      <th>0</th>\n",
              "      <td>2012-10-01 01:42:22</td>\n",
              "      <td>female</td>\n",
              "    </tr>\n",
              "    <tr>\n",
              "      <th>1</th>\n",
              "      <td>2012-10-01 02:24:53</td>\n",
              "      <td>female</td>\n",
              "    </tr>\n",
              "    <tr>\n",
              "      <th>2</th>\n",
              "      <td>2012-10-01 02:25:40</td>\n",
              "      <td>female</td>\n",
              "    </tr>\n",
              "    <tr>\n",
              "      <th>3</th>\n",
              "      <td>2012-10-01 02:30:42</td>\n",
              "      <td>female</td>\n",
              "    </tr>\n",
              "    <tr>\n",
              "      <th>4</th>\n",
              "      <td>2012-10-01 02:51:32</td>\n",
              "      <td>male</td>\n",
              "    </tr>\n",
              "  </tbody>\n",
              "</table>\n",
              "</div>"
            ],
            "text/plain": [
              "             sale_time purchaser_gender\n",
              "0  2012-10-01 01:42:22           female\n",
              "1  2012-10-01 02:24:53           female\n",
              "2  2012-10-01 02:25:40           female\n",
              "3  2012-10-01 02:30:42           female\n",
              "4  2012-10-01 02:51:32             male"
            ]
          },
          "execution_count": 4,
          "metadata": {},
          "output_type": "execute_result"
        }
      ],
      "source": [
        "df_final.head()"
      ]
    },
    {
      "cell_type": "code",
      "execution_count": null,
      "metadata": {
        "id": "0f3h6chhjKEq",
        "outputId": "10386e5a-6f43-4a2e-8e74-d31527f3ef5b"
      },
      "outputs": [
        {
          "name": "stdout",
          "output_type": "stream",
          "text": [
            "<class 'pandas.core.frame.DataFrame'>\n",
            "Int64Index: 204329 entries, 0 to 4998\n",
            "Data columns (total 2 columns):\n",
            " #   Column            Non-Null Count   Dtype \n",
            "---  ------            --------------   ----- \n",
            " 0   sale_time         204329 non-null  object\n",
            " 1   purchaser_gender  204329 non-null  object\n",
            "dtypes: object(2)\n",
            "memory usage: 4.7+ MB\n"
          ]
        }
      ],
      "source": [
        "df_final.info()"
      ]
    },
    {
      "cell_type": "markdown",
      "metadata": {
        "id": "5_MhL7wXjKEr"
      },
      "source": [
        "**Assignment**\n",
        "\n",
        "Please answer the questions below based on the data provided:\n",
        "\n",
        "1. Plot daily sales for all 50 weeks.\n",
        "2. It looks like there has been a sudden change in daily sales. What date did it occur?\n",
        "3. Is the change in daily sales at the date you selected statistically significant? If so, what is the p-value?\n",
        "4. Does the data suggest that the change in daily sales is due to a shift in the proportion of male-vs-female customers? Please use plots to support your answer (a rigorous statistical analysis is not necessary).\n",
        "5. Assume a given day is divided into four dayparts: night (12:00AM - 6:00AM), morning (6:00AM - 12:00PM), afternoon (12:00PM - 6:00PM) and evening (6:00PM - 12:00AM). What is the percentage of sales in each daypart over all 50 weeks?\n",
        "\n",
        "**Question 1**\n",
        "\n",
        "Plot daily sales for all 50 weeks."
      ]
    },
    {
      "cell_type": "code",
      "execution_count": null,
      "metadata": {
        "id": "wwWTeFQ9jKEt"
      },
      "outputs": [],
      "source": [
        "# Convert the date column to datetime type\n",
        "df_final['sale_time'] = pd.to_datetime(df_final['sale_time'])\n",
        "\n",
        "# Create a new column for the week number\n",
        "df_final['sale_week'] = df_final['sale_time'].dt.week"
      ]
    },
    {
      "cell_type": "code",
      "execution_count": null,
      "metadata": {
        "id": "iD4XYxTpjKEt",
        "outputId": "52845764-9817-4ec3-c109-244228fc45a6"
      },
      "outputs": [
        {
          "data": {
            "text/html": [
              "<div>\n",
              "<style scoped>\n",
              "    .dataframe tbody tr th:only-of-type {\n",
              "        vertical-align: middle;\n",
              "    }\n",
              "\n",
              "    .dataframe tbody tr th {\n",
              "        vertical-align: top;\n",
              "    }\n",
              "\n",
              "    .dataframe thead th {\n",
              "        text-align: right;\n",
              "    }\n",
              "</style>\n",
              "<table border=\"1\" class=\"dataframe\">\n",
              "  <thead>\n",
              "    <tr style=\"text-align: right;\">\n",
              "      <th></th>\n",
              "      <th>sale_time</th>\n",
              "      <th>purchaser_gender</th>\n",
              "      <th>sale_week</th>\n",
              "    </tr>\n",
              "  </thead>\n",
              "  <tbody>\n",
              "    <tr>\n",
              "      <th>0</th>\n",
              "      <td>2012-10-01 01:42:22</td>\n",
              "      <td>female</td>\n",
              "      <td>40</td>\n",
              "    </tr>\n",
              "    <tr>\n",
              "      <th>1</th>\n",
              "      <td>2012-10-01 02:24:53</td>\n",
              "      <td>female</td>\n",
              "      <td>40</td>\n",
              "    </tr>\n",
              "    <tr>\n",
              "      <th>2</th>\n",
              "      <td>2012-10-01 02:25:40</td>\n",
              "      <td>female</td>\n",
              "      <td>40</td>\n",
              "    </tr>\n",
              "    <tr>\n",
              "      <th>3</th>\n",
              "      <td>2012-10-01 02:30:42</td>\n",
              "      <td>female</td>\n",
              "      <td>40</td>\n",
              "    </tr>\n",
              "    <tr>\n",
              "      <th>4</th>\n",
              "      <td>2012-10-01 02:51:32</td>\n",
              "      <td>male</td>\n",
              "      <td>40</td>\n",
              "    </tr>\n",
              "  </tbody>\n",
              "</table>\n",
              "</div>"
            ],
            "text/plain": [
              "            sale_time purchaser_gender  sale_week\n",
              "0 2012-10-01 01:42:22           female         40\n",
              "1 2012-10-01 02:24:53           female         40\n",
              "2 2012-10-01 02:25:40           female         40\n",
              "3 2012-10-01 02:30:42           female         40\n",
              "4 2012-10-01 02:51:32             male         40"
            ]
          },
          "execution_count": 7,
          "metadata": {},
          "output_type": "execute_result"
        }
      ],
      "source": [
        "df_final.head()"
      ]
    },
    {
      "cell_type": "code",
      "execution_count": null,
      "metadata": {
        "id": "HA9OXKA0jKEu"
      },
      "outputs": [],
      "source": [
        "daily_sales_df=df_final.groupby(df_final[\"sale_time\"].dt.date).size().reset_index(name='sales_amount')"
      ]
    },
    {
      "cell_type": "code",
      "execution_count": null,
      "metadata": {
        "id": "-1QIfh0_jKEv"
      },
      "outputs": [],
      "source": [
        "daily_sales_df.rename(columns={'sale_time':'sale_day'},inplace=True)\n",
        "daily_sales_df=daily_sales_df.reset_index()"
      ]
    },
    {
      "cell_type": "code",
      "execution_count": null,
      "metadata": {
        "id": "mWw88eHPjKEw"
      },
      "outputs": [],
      "source": [
        "# assign a constant figure size and use it in plotting to make plots larger\n",
        "FIG_SIZE = (8,6)\n",
        "\n"
      ]
    },
    {
      "cell_type": "code",
      "execution_count": null,
      "metadata": {
        "id": "5_Ndm4aYjKEw",
        "outputId": "af6368fc-a1a9-4110-cb16-46831a5beac0"
      },
      "outputs": [
        {
          "data": {
            "image/png": "[encoded data removed]",
            "text/plain": [
              "<Figure size 576x432 with 1 Axes>"
            ]
          },
          "metadata": {
            "needs_background": "light"
          },
          "output_type": "display_data"
        }
      ],
      "source": [
        "#  to use index in plotting make sale_day index\n",
        "daily_sales_df.index = daily_sales_df['sale_day']\n",
        "daily_sales_df.drop(columns=['sale_day'], inplace=True)\n",
        "\n",
        "#  plot daily sales for all 50 weeks\n",
        "daily_sales_df.plot(figsize=FIG_SIZE, title = \"Daily sales over 50 weeks\")\n",
        "plt.show()"
      ]
    },
    {
      "cell_type": "markdown",
      "metadata": {
        "id": "S2i4RZyGjKEx"
      },
      "source": [
        "**Question 2**\n",
        "\n",
        "It looks like there has been a sudden change in daily sales. What date did it occur?"
      ]
    },
    {
      "cell_type": "code",
      "execution_count": null,
      "metadata": {
        "id": "oyaSSqJ8jKEx",
        "outputId": "184f8d5a-8319-4004-bd9a-1ec4ec4981a9"
      },
      "outputs": [
        {
          "data": {
            "text/html": [
              "<div>\n",
              "<style scoped>\n",
              "    .dataframe tbody tr th:only-of-type {\n",
              "        vertical-align: middle;\n",
              "    }\n",
              "\n",
              "    .dataframe tbody tr th {\n",
              "        vertical-align: top;\n",
              "    }\n",
              "\n",
              "    .dataframe thead th {\n",
              "        text-align: right;\n",
              "    }\n",
              "</style>\n",
              "<table border=\"1\" class=\"dataframe\">\n",
              "  <thead>\n",
              "    <tr style=\"text-align: right;\">\n",
              "      <th></th>\n",
              "      <th>index</th>\n",
              "      <th>sales_amount</th>\n",
              "      <th>prev_day_sale_amount</th>\n",
              "      <th>difference_btw_prev_day</th>\n",
              "    </tr>\n",
              "    <tr>\n",
              "      <th>sale_day</th>\n",
              "      <th></th>\n",
              "      <th></th>\n",
              "      <th></th>\n",
              "      <th></th>\n",
              "    </tr>\n",
              "  </thead>\n",
              "  <tbody>\n",
              "    <tr>\n",
              "      <th>2012-10-01</th>\n",
              "      <td>0</td>\n",
              "      <td>514</td>\n",
              "      <td>NaN</td>\n",
              "      <td>NaN</td>\n",
              "    </tr>\n",
              "    <tr>\n",
              "      <th>2012-10-02</th>\n",
              "      <td>1</td>\n",
              "      <td>482</td>\n",
              "      <td>514.0</td>\n",
              "      <td>-32.0</td>\n",
              "    </tr>\n",
              "    <tr>\n",
              "      <th>2012-10-03</th>\n",
              "      <td>2</td>\n",
              "      <td>499</td>\n",
              "      <td>482.0</td>\n",
              "      <td>17.0</td>\n",
              "    </tr>\n",
              "    <tr>\n",
              "      <th>2012-10-04</th>\n",
              "      <td>3</td>\n",
              "      <td>546</td>\n",
              "      <td>499.0</td>\n",
              "      <td>47.0</td>\n",
              "    </tr>\n",
              "    <tr>\n",
              "      <th>2012-10-05</th>\n",
              "      <td>4</td>\n",
              "      <td>476</td>\n",
              "      <td>546.0</td>\n",
              "      <td>-70.0</td>\n",
              "    </tr>\n",
              "  </tbody>\n",
              "</table>\n",
              "</div>"
            ],
            "text/plain": [
              "            index  sales_amount  prev_day_sale_amount  difference_btw_prev_day\n",
              "sale_day                                                                      \n",
              "2012-10-01      0           514                   NaN                      NaN\n",
              "2012-10-02      1           482                 514.0                    -32.0\n",
              "2012-10-03      2           499                 482.0                     17.0\n",
              "2012-10-04      3           546                 499.0                     47.0\n",
              "2012-10-05      4           476                 546.0                    -70.0"
            ]
          },
          "execution_count": 12,
          "metadata": {},
          "output_type": "execute_result"
        }
      ],
      "source": [
        "# compare sales amount difference with the previous day and find the biggest difference \n",
        "# which should give the sudden change in the plot\n",
        "daily_sales_df['prev_day_sale_amount'] = [None] + daily_sales_df['sales_amount'].to_list()[:-1]\n",
        "daily_sales_df['difference_btw_prev_day'] = daily_sales_df['sales_amount'] - daily_sales_df['prev_day_sale_amount']\n",
        "#daily_sales_df=daily_sales_df.reset_index()\n",
        "daily_sales_df.head()"
      ]
    },
    {
      "cell_type": "code",
      "execution_count": null,
      "metadata": {
        "id": "W1agE7qIjKEy",
        "outputId": "8fe697e8-2441-418b-9695-0463b34b5c7c"
      },
      "outputs": [
        {
          "name": "stdout",
          "output_type": "stream",
          "text": [
            "2013-04-29\n"
          ]
        },
        {
          "data": {
            "text/html": [
              "<div>\n",
              "<style scoped>\n",
              "    .dataframe tbody tr th:only-of-type {\n",
              "        vertical-align: middle;\n",
              "    }\n",
              "\n",
              "    .dataframe tbody tr th {\n",
              "        vertical-align: top;\n",
              "    }\n",
              "\n",
              "    .dataframe thead th {\n",
              "        text-align: right;\n",
              "    }\n",
              "</style>\n",
              "<table border=\"1\" class=\"dataframe\">\n",
              "  <thead>\n",
              "    <tr style=\"text-align: right;\">\n",
              "      <th></th>\n",
              "      <th>index</th>\n",
              "      <th>sales_amount</th>\n",
              "      <th>prev_day_sale_amount</th>\n",
              "      <th>difference_btw_prev_day</th>\n",
              "    </tr>\n",
              "    <tr>\n",
              "      <th>sale_day</th>\n",
              "      <th></th>\n",
              "      <th></th>\n",
              "      <th></th>\n",
              "      <th></th>\n",
              "    </tr>\n",
              "  </thead>\n",
              "  <tbody>\n",
              "  </tbody>\n",
              "</table>\n",
              "</div>"
            ],
            "text/plain": [
              "Empty DataFrame\n",
              "Columns: [index, sales_amount, prev_day_sale_amount, difference_btw_prev_day]\n",
              "Index: []"
            ]
          },
          "execution_count": 13,
          "metadata": {},
          "output_type": "execute_result"
        }
      ],
      "source": [
        "# get the index of max change to answer what date did it occur\n",
        "print(daily_sales_df['difference_btw_prev_day'].idxmax(axis=\"columns\"))\n",
        "daily_sales_df.query(\"sale_day == '2013-04-29'\")"
      ]
    },
    {
      "cell_type": "markdown",
      "metadata": {
        "id": "6R3vZGkpjKEy"
      },
      "source": [
        "**Question 3**\n",
        "\n",
        "Is the change in daily sales at the date you selected statistically significant? If so, what is the p-value?"
      ]
    },
    {
      "cell_type": "code",
      "execution_count": null,
      "metadata": {
        "id": "osOtyWosjKEy",
        "outputId": "0bb8ed07-dce5-43f3-fc33-9b1342bda317"
      },
      "outputs": [
        {
          "data": {
            "text/plain": [
              "Ttest_1sampResult(statistic=-26.273266340051002, pvalue=1.3019593251472396e-84)"
            ]
          },
          "execution_count": 14,
          "metadata": {},
          "output_type": "execute_result"
        }
      ],
      "source": [
        "# scipy.stats include a function to do t-test and obtain p-value\n",
        "from scipy import stats\n",
        "\n",
        "# first drop all nan values (if any) for the test \n",
        "daily_sales_df.dropna(inplace=True)\n",
        "\n",
        "# then compare the max change with all sales_amount column \n",
        "# to understand its statistical importance\n",
        "stats.ttest_1samp(daily_sales_df['sales_amount'], 732)"
      ]
    },
    {
      "cell_type": "markdown",
      "metadata": {
        "id": "SKN78ooQjKEz"
      },
      "source": [
        "The obtained p-value as the result of the t-test is 1.3019593251472396e-84 which is lower than 0.05 (we can assume the threshold as 0.05 as common practice). It leads to decide this particular date is important for us."
      ]
    },
    {
      "cell_type": "markdown",
      "metadata": {
        "id": "v86lKRiMjKEz"
      },
      "source": [
        "**Question 4**\n",
        "\n",
        "Does the data suggest that the change in daily sales is due to a shift in the proportion of male-vs-female customers? Please use plots to support your answer (a rigorous statistical analysis is not necessary)."
      ]
    },
    {
      "cell_type": "code",
      "execution_count": null,
      "metadata": {
        "id": "e9G1rVfPjKEz"
      },
      "outputs": [],
      "source": [
        "# create gender_portions_df to analyze sales distribution over genders\n",
        "df_final['sale_day'] = pd.to_datetime(df_final['sale_time']).dt.floor('d')\n",
        "gender_portions_df = df_final.groupby(['sale_day', 'purchaser_gender']).size().reset_index(name='sales_amount')"
      ]
    },
    {
      "cell_type": "code",
      "execution_count": null,
      "metadata": {
        "id": "mtJGnfOijKE0",
        "outputId": "b7f3e648-ff24-4bb1-ed67-fd3b7958a639"
      },
      "outputs": [
        {
          "data": {
            "text/html": [
              "<div>\n",
              "<style scoped>\n",
              "    .dataframe tbody tr th:only-of-type {\n",
              "        vertical-align: middle;\n",
              "    }\n",
              "\n",
              "    .dataframe tbody tr th {\n",
              "        vertical-align: top;\n",
              "    }\n",
              "\n",
              "    .dataframe thead th {\n",
              "        text-align: right;\n",
              "    }\n",
              "</style>\n",
              "<table border=\"1\" class=\"dataframe\">\n",
              "  <thead>\n",
              "    <tr style=\"text-align: right;\">\n",
              "      <th></th>\n",
              "      <th>sale_day</th>\n",
              "      <th>purchaser_gender</th>\n",
              "      <th>sales_amount</th>\n",
              "    </tr>\n",
              "  </thead>\n",
              "  <tbody>\n",
              "    <tr>\n",
              "      <th>0</th>\n",
              "      <td>2012-10-01</td>\n",
              "      <td>female</td>\n",
              "      <td>413</td>\n",
              "    </tr>\n",
              "    <tr>\n",
              "      <th>1</th>\n",
              "      <td>2012-10-01</td>\n",
              "      <td>male</td>\n",
              "      <td>101</td>\n",
              "    </tr>\n",
              "    <tr>\n",
              "      <th>2</th>\n",
              "      <td>2012-10-02</td>\n",
              "      <td>female</td>\n",
              "      <td>379</td>\n",
              "    </tr>\n",
              "    <tr>\n",
              "      <th>3</th>\n",
              "      <td>2012-10-02</td>\n",
              "      <td>male</td>\n",
              "      <td>103</td>\n",
              "    </tr>\n",
              "    <tr>\n",
              "      <th>4</th>\n",
              "      <td>2012-10-03</td>\n",
              "      <td>female</td>\n",
              "      <td>386</td>\n",
              "    </tr>\n",
              "    <tr>\n",
              "      <th>...</th>\n",
              "      <td>...</td>\n",
              "      <td>...</td>\n",
              "      <td>...</td>\n",
              "    </tr>\n",
              "    <tr>\n",
              "      <th>695</th>\n",
              "      <td>2013-09-13</td>\n",
              "      <td>male</td>\n",
              "      <td>537</td>\n",
              "    </tr>\n",
              "    <tr>\n",
              "      <th>696</th>\n",
              "      <td>2013-09-14</td>\n",
              "      <td>female</td>\n",
              "      <td>193</td>\n",
              "    </tr>\n",
              "    <tr>\n",
              "      <th>697</th>\n",
              "      <td>2013-09-14</td>\n",
              "      <td>male</td>\n",
              "      <td>462</td>\n",
              "    </tr>\n",
              "    <tr>\n",
              "      <th>698</th>\n",
              "      <td>2013-09-15</td>\n",
              "      <td>female</td>\n",
              "      <td>230</td>\n",
              "    </tr>\n",
              "    <tr>\n",
              "      <th>699</th>\n",
              "      <td>2013-09-15</td>\n",
              "      <td>male</td>\n",
              "      <td>522</td>\n",
              "    </tr>\n",
              "  </tbody>\n",
              "</table>\n",
              "<p>700 rows × 3 columns</p>\n",
              "</div>"
            ],
            "text/plain": [
              "      sale_day purchaser_gender  sales_amount\n",
              "0   2012-10-01           female           413\n",
              "1   2012-10-01             male           101\n",
              "2   2012-10-02           female           379\n",
              "3   2012-10-02             male           103\n",
              "4   2012-10-03           female           386\n",
              "..         ...              ...           ...\n",
              "695 2013-09-13             male           537\n",
              "696 2013-09-14           female           193\n",
              "697 2013-09-14             male           462\n",
              "698 2013-09-15           female           230\n",
              "699 2013-09-15             male           522\n",
              "\n",
              "[700 rows x 3 columns]"
            ]
          },
          "execution_count": 18,
          "metadata": {},
          "output_type": "execute_result"
        }
      ],
      "source": [
        "gender_portions_df"
      ]
    },
    {
      "cell_type": "code",
      "execution_count": null,
      "metadata": {
        "id": "2f9bnnuAjKE0",
        "outputId": "d07bd9f5-2150-4057-a4c2-675086398b57"
      },
      "outputs": [
        {
          "data": {
            "text/html": [
              "<div>\n",
              "<style scoped>\n",
              "    .dataframe tbody tr th:only-of-type {\n",
              "        vertical-align: middle;\n",
              "    }\n",
              "\n",
              "    .dataframe tbody tr th {\n",
              "        vertical-align: top;\n",
              "    }\n",
              "\n",
              "    .dataframe thead th {\n",
              "        text-align: right;\n",
              "    }\n",
              "</style>\n",
              "<table border=\"1\" class=\"dataframe\">\n",
              "  <thead>\n",
              "    <tr style=\"text-align: right;\">\n",
              "      <th></th>\n",
              "      <th>sale_day</th>\n",
              "      <th>female_sales_amount</th>\n",
              "      <th>male_sales_amount</th>\n",
              "    </tr>\n",
              "  </thead>\n",
              "  <tbody>\n",
              "    <tr>\n",
              "      <th>345</th>\n",
              "      <td>2013-09-11</td>\n",
              "      <td>224</td>\n",
              "      <td>495</td>\n",
              "    </tr>\n",
              "    <tr>\n",
              "      <th>346</th>\n",
              "      <td>2013-09-12</td>\n",
              "      <td>225</td>\n",
              "      <td>510</td>\n",
              "    </tr>\n",
              "    <tr>\n",
              "      <th>347</th>\n",
              "      <td>2013-09-13</td>\n",
              "      <td>206</td>\n",
              "      <td>537</td>\n",
              "    </tr>\n",
              "    <tr>\n",
              "      <th>348</th>\n",
              "      <td>2013-09-14</td>\n",
              "      <td>193</td>\n",
              "      <td>462</td>\n",
              "    </tr>\n",
              "    <tr>\n",
              "      <th>349</th>\n",
              "      <td>2013-09-15</td>\n",
              "      <td>230</td>\n",
              "      <td>522</td>\n",
              "    </tr>\n",
              "  </tbody>\n",
              "</table>\n",
              "</div>"
            ],
            "text/plain": [
              "      sale_day  female_sales_amount  male_sales_amount\n",
              "345 2013-09-11                  224                495\n",
              "346 2013-09-12                  225                510\n",
              "347 2013-09-13                  206                537\n",
              "348 2013-09-14                  193                462\n",
              "349 2013-09-15                  230                522"
            ]
          },
          "execution_count": 19,
          "metadata": {},
          "output_type": "execute_result"
        }
      ],
      "source": [
        "# calculate female and male sales amount separately\n",
        "new_df = pd.DataFrame(gender_portions_df['sale_day'].unique(),columns=['sale_day'])\n",
        "new_df['female_sales_amount'] = pd.Series(gender_portions_df[gender_portions_df.purchaser_gender == 'female']['sales_amount']).reset_index(drop=True)\n",
        "new_df['male_sales_amount'] = pd.Series(gender_portions_df[gender_portions_df.purchaser_gender == 'male']['sales_amount']).reset_index(drop=True)\n",
        "new_df[-5:]\n"
      ]
    },
    {
      "cell_type": "code",
      "execution_count": null,
      "metadata": {
        "id": "edLOC97IjKE0",
        "outputId": "50c0cede-c646-46aa-defe-f1c2e33391a1"
      },
      "outputs": [
        {
          "data": {
            "image/png": "[encoded data removed]",
            "text/plain": [
              "<Figure size 576x432 with 2 Axes>"
            ]
          },
          "metadata": {
            "needs_background": "light"
          },
          "output_type": "display_data"
        }
      ],
      "source": [
        "# calculate gender ratio of sales\n",
        "new_df['gender_ratio'] = new_df['male_sales_amount']/new_df['female_sales_amount']\n",
        "\n",
        "# plot gender ratio change over 50 weeks with the total sales amount\n",
        "# observe if there is a correlation between them\n",
        "plot_df = new_df.copy()\n",
        "plot_df['total_sales_amount']  = plot_df['male_sales_amount'] + plot_df['female_sales_amount']\n",
        "plot_df.drop(columns=['female_sales_amount', 'male_sales_amount'], inplace=True)\n",
        "plot_df.index = plot_df['sale_day']\n",
        "plot_df.drop(columns=['sale_day'], inplace=True)\n",
        "plot_df.plot(secondary_y = ['gender_ratio'],figsize=FIG_SIZE, title= \"Gender ratio and sales amount over all 50 weeks\")\n",
        "plt.show()"
      ]
    },
    {
      "cell_type": "markdown",
      "metadata": {
        "id": "n-bz-M9DjKE1"
      },
      "source": [
        "The increasing trend of the male ratio in the sales amount does not explain the sudden change. The reason should be something different. For example, it might be caused by starting a new marketing campaign or adding a new feature to the website."
      ]
    },
    {
      "cell_type": "markdown",
      "metadata": {
        "id": "82Ylz_rrjKE1"
      },
      "source": [
        "**Question 5**\n",
        "\n",
        "Assume a given day is divided into four dayparts: night (12:00AM - 6:00AM), morning (6:00AM to 12:00PM), afternoon (12:00PM to 6:00PM) and evening (6:00PM - 12:00AM). What is the percentage of sales in each daypart over all 50 weeks?"
      ]
    },
    {
      "cell_type": "code",
      "execution_count": null,
      "metadata": {
        "id": "zmOumGCrjKE1",
        "outputId": "3286a924-e4c4-4ba8-b992-2b1a3c4cbf6e"
      },
      "outputs": [
        {
          "data": {
            "text/plain": [
              "sale_time           datetime64[ns]\n",
              "purchaser_gender            object\n",
              "sale_week                    int64\n",
              "sale_day            datetime64[ns]\n",
              "sale_hour                    int64\n",
              "dtype: object"
            ]
          },
          "execution_count": 22,
          "metadata": {},
          "output_type": "execute_result"
        }
      ],
      "source": [
        "# extract sale hour to divide sales to the part of days\n",
        "df_final['sale_hour']  = pd.to_datetime(df_final['sale_time']).dt.ceil('h').dt.hour\n",
        "df_final.dtypes"
      ]
    },
    {
      "cell_type": "code",
      "execution_count": null,
      "metadata": {
        "id": "ARnZED3HjKE2"
      },
      "outputs": [],
      "source": [
        "# define a function to apply sale hour column to decide a part of day based on the mentioned logic\n",
        "def assign_day_part(sale_hour):\n",
        "    \"\"\"Assign labels based on sale hour.\"\"\"\n",
        "    if sale_hour > 6 and sale_hour < 12:\n",
        "        return 'morning'\n",
        "    if sale_hour > 12 and sale_hour < 18:\n",
        "        return 'afternoon'\n",
        "    if sale_hour > 18 and sale_hour < 24:\n",
        "        return 'evening'\n",
        "    if sale_hour > -1 and sale_hour < 6:\n",
        "        return 'night'"
      ]
    },
    {
      "cell_type": "code",
      "execution_count": null,
      "metadata": {
        "id": "nAw8hVxCjKE2"
      },
      "outputs": [],
      "source": [
        "# apply the defined function and create day_part column\n",
        "df_final['day_part'] = df_final['sale_hour'].apply(assign_day_part)\n",
        "\n",
        "# drop unnecessary columns\n",
        "df_final.drop(columns = ['purchaser_gender', 'sale_hour', 'sale_time'], inplace= True)"
      ]
    },
    {
      "cell_type": "code",
      "execution_count": null,
      "metadata": {
        "id": "kv7b3PISjKE2"
      },
      "outputs": [],
      "source": [
        "# calculate sales amount per day part\n",
        "df_pct_sales = df_final.groupby(df_final.day_part).size().reset_index(name='day_part_sales_amount')\n",
        "\n",
        "# calculate sales amount percentage per day part\n",
        "df_pct_sales['day_part_sales_percentage'] = df_pct_sales['day_part_sales_amount'] / df_pct_sales['day_part_sales_amount'].sum()"
      ]
    },
    {
      "cell_type": "code",
      "execution_count": null,
      "metadata": {
        "id": "bKbAKTWHjKE2",
        "outputId": "8d972bfb-ca72-478f-f97c-4075832753cd"
      },
      "outputs": [
        {
          "data": {
            "text/html": [
              "<div>\n",
              "<style scoped>\n",
              "    .dataframe tbody tr th:only-of-type {\n",
              "        vertical-align: middle;\n",
              "    }\n",
              "\n",
              "    .dataframe tbody tr th {\n",
              "        vertical-align: top;\n",
              "    }\n",
              "\n",
              "    .dataframe thead th {\n",
              "        text-align: right;\n",
              "    }\n",
              "</style>\n",
              "<table border=\"1\" class=\"dataframe\">\n",
              "  <thead>\n",
              "    <tr style=\"text-align: right;\">\n",
              "      <th></th>\n",
              "      <th>day_part</th>\n",
              "      <th>day_part_sales_amount</th>\n",
              "      <th>day_part_sales_percentage</th>\n",
              "    </tr>\n",
              "  </thead>\n",
              "  <tbody>\n",
              "    <tr>\n",
              "      <th>0</th>\n",
              "      <td>afternoon</td>\n",
              "      <td>68119</td>\n",
              "      <td>0.394595</td>\n",
              "    </tr>\n",
              "    <tr>\n",
              "      <th>1</th>\n",
              "      <td>evening</td>\n",
              "      <td>41111</td>\n",
              "      <td>0.238145</td>\n",
              "    </tr>\n",
              "    <tr>\n",
              "      <th>2</th>\n",
              "      <td>morning</td>\n",
              "      <td>49833</td>\n",
              "      <td>0.288669</td>\n",
              "    </tr>\n",
              "    <tr>\n",
              "      <th>3</th>\n",
              "      <td>night</td>\n",
              "      <td>13567</td>\n",
              "      <td>0.078590</td>\n",
              "    </tr>\n",
              "  </tbody>\n",
              "</table>\n",
              "</div>"
            ],
            "text/plain": [
              "    day_part  day_part_sales_amount  day_part_sales_percentage\n",
              "0  afternoon                  68119                   0.394595\n",
              "1    evening                  41111                   0.238145\n",
              "2    morning                  49833                   0.288669\n",
              "3      night                  13567                   0.078590"
            ]
          },
          "execution_count": 28,
          "metadata": {},
          "output_type": "execute_result"
        }
      ],
      "source": [
        "df_pct_sales"
      ]
    },
    {
      "cell_type": "code",
      "execution_count": null,
      "metadata": {
        "id": "pIZSbYuLjKE3"
      },
      "outputs": [],
      "source": []
    }
  ],
  "metadata": {
    "kernelspec": {
      "display_name": "Python 3",
      "language": "python",
      "name": "python3"
    },
    "language_info": {
      "codemirror_mode": {
        "name": "ipython",
        "version": 3
      },
      "file_extension": ".py",
      "mimetype": "text/x-python",
      "name": "python",
      "nbconvert_exporter": "python",
      "pygments_lexer": "ipython3",
      "version": "3.8.3"
    },
    "colab": {
      "provenance": [],
      "include_colab_link": true
    }
  },
  "nbformat": 4,
  "nbformat_minor": 0
}